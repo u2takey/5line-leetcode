{
 "cells": [
  {
   "cell_type": "code",
   "execution_count": 1,
   "metadata": {},
   "outputs": [],
   "source": [
    "# prepare\n",
    "from typing import Optional\n",
    "from typing import List\n",
    "class ListNode:\n",
    "    def __init__(self, val=0, next=None):\n",
    "        self.val = val\n",
    "        self.next = next\n",
    "\n",
    "class TreeNode:\n",
    "    def __init__(self, val=0, left=None, right=None):\n",
    "        self.val = val\n",
    "        self.left = left\n",
    "        self.right = right\n",
    "\n",
    "class Node:\n",
    "    def __init__(self, val: int = 0, left: 'Node' = None, right: 'Node' = None, next: 'Node' = None):\n",
    "        self.val = val\n",
    "        self.left = left\n",
    "        self.right = right\n",
    "        self.next = next"
   ]
  },
  {
   "cell_type": "code",
   "execution_count": 3,
   "metadata": {},
   "outputs": [],
   "source": [
    "# 121. https://leetcode.com/problems/best-time-to-buy-and-sell-stock/\n",
    "class Solution:\n",
    "    def maxProfit(self, prices: List[int]) -> int:\n",
    "        low, profit = float('inf'), 0\n",
    "        for a in prices:\n",
    "            low, profit = min(low, a), max(profit, a-low)\n",
    "        return profit"
   ]
  },
  {
   "cell_type": "code",
   "execution_count": 4,
   "metadata": {},
   "outputs": [],
   "source": [
    "# 122. https://leetcode.com/problems/best-time-to-buy-and-sell-stock-ii/\n",
    "class Solution:\n",
    "    def maxProfit(self, prices: List[int]) -> int:\n",
    "        return sum(max(0, prices[i]-prices[i-1]) for i in range(1, len(prices)))\n"
   ]
  },
  {
   "cell_type": "code",
   "execution_count": 5,
   "metadata": {},
   "outputs": [],
   "source": [
    "# 123. https://leetcode.com/problems/best-time-to-buy-and-sell-stock-iii/\n",
    "class Solution:\n",
    "    def maxProfit(self, prices: List[int]) -> int:\n",
    "        buy1, buy2, sell1, sell2 = float('-inf'), float('-inf'), 0, 0\n",
    "        for p in prices:\n",
    "            buy1 = max(buy1, -p); sell1 = max(sell1, buy1+p)\n",
    "            buy2 = max(buy2, sell1-p); sell2 = max(sell2, buy2+p)\n",
    "        return sell2"
   ]
  },
  {
   "cell_type": "code",
   "execution_count": null,
   "metadata": {},
   "outputs": [],
   "source": [
    "# 124. https://leetcode.com/problems/binary-tree-maximum-path-sum/\n",
    "class Solution:\n",
    "    maxs = float('-inf')\n",
    "    def maxPathSum(self, root: Optional[TreeNode]) -> int:\n",
    "        def maxPathSumFromRoot(root): \n",
    "            # max path from root to leaf\n",
    "            if not root: return 0\n",
    "            l, r = maxPathSumFromRoot(root.left), maxPathSumFromRoot(root.right)\n",
    "            self.maxs = max(self.maxs, max(l, 0) + max(r, 0) + root.val)\n",
    "            return max(l, r, 0) + root.val\n",
    "\n",
    "        maxPathSumFromRoot(root)\n",
    "        return self.maxs"
   ]
  },
  {
   "cell_type": "code",
   "execution_count": 6,
   "metadata": {},
   "outputs": [],
   "source": [
    "# 125. https://leetcode.com/problems/valid-palindrome/\n",
    "class Solution:\n",
    "    def isPalindrome(self, s: str) -> bool:\n",
    "        s = list(filter(str.isalnum, s.lower()))\n",
    "        return s == s[::-1]"
   ]
  },
  {
   "cell_type": "code",
   "execution_count": 20,
   "metadata": {},
   "outputs": [],
   "source": [
    "# 126. https://leetcode.com/problems/word-ladder-ii/\n",
    "class Solution:\n",
    "    def findLadders(self, beginWord: str, endWord: str, wordList: List[str]) -> List[List[str]]:\n",
    "        # todo\n",
    "        pass"
   ]
  },
  {
   "cell_type": "code",
   "execution_count": 1,
   "metadata": {},
   "outputs": [],
   "source": [
    "# 127. https://leetcode.com/problems/word-ladder/\n",
    "class Solution:\n",
    "    def ladderLength(self, beginWord: str, endWord: str, wordList: List[str]) -> int:\n",
    "        # todo\n",
    "        pass"
   ]
  },
  {
   "cell_type": "code",
   "execution_count": 7,
   "metadata": {},
   "outputs": [],
   "source": [
    "# 128: https://leetcode.com/problems/longest-consecutive-sequence/\n",
    "class Solution:\n",
    "    def longestConsecutive(self, nums: List[int]) -> int:\n",
    "        numset, cmax = set(nums), 0\n",
    "        for i, a in enumerate(nums):\n",
    "            if a - 1 not in numset:\n",
    "                while a + 1 in numset: a += 1\n",
    "                cmax = max(cmax, a-nums[i]+1)\n",
    "        return cmax"
   ]
  },
  {
   "cell_type": "code",
   "execution_count": 3,
   "metadata": {},
   "outputs": [],
   "source": [
    "# 129. https://leetcode.com/problems/sum-root-to-leaf-numbers/\n",
    "class Solution:\n",
    "    def sumNumbers(self, root: TreeNode) -> int:\n",
    "        q, s = [(root, root.val)] if root else [], 0\n",
    "        while q:\n",
    "            s += sum(b[1] for b in q if (b[0].left == None and b[0].right == None))\n",
    "            q = [(a, b[1]*10+a.val) for b in q for a in (b[0].left, b[0].right) if a]\n",
    "        return s"
   ]
  },
  {
   "cell_type": "code",
   "execution_count": 29,
   "metadata": {},
   "outputs": [],
   "source": [
    "# 130. https://leetcode.com/problems/surrounded-regions/\n",
    "class Solution:\n",
    "    def solve(self, b: List[List[str]]) -> None:\n",
    "        \"\"\"\n",
    "        Do not return anything, modify board in-place instead.\n",
    "        \"\"\"\n",
    "        def dfs(i, j):\n",
    "            b[i][j] = 'Y'\n",
    "            [dfs(x, y) for x, y in [(i+1,j),(i-1,j), (i, j-1), (i,j+1)] if 0<x<len(b) and 0<=y<len(b[0])and b[x][y] == 'O'] \n",
    "        [dfs(i, j) for i in range(len(b)) for j in range(len(b[0])) if (i == 0 or i == len(b)-1 or j ==0 or j == len(b[0]) - 1) and b[i][j] == 'O']\n",
    "        for i in range(len(b)):\n",
    "             for j in range(len(b[0])):\n",
    "                 if b[i][j] == 'Y': b[i][j] = 'O'\n",
    "                 elif b[i][j] == 'O': b[i][j] = 'X'"
   ]
  },
  {
   "cell_type": "code",
   "execution_count": 31,
   "metadata": {},
   "outputs": [],
   "source": [
    "# 131. https://leetcode.com/problems/palindrome-partitioning/\n",
    "class Solution:\n",
    "    def partition(self, s: str) -> List[List[str]]:\n",
    "        if not s: return [[]]\n",
    "        return [[s[:i]] + a for i in range(1,len(s)+1) for a in self.partition(s[i:]) if s[:i][::-1] == s[:i]]"
   ]
  },
  {
   "cell_type": "code",
   "execution_count": 32,
   "metadata": {},
   "outputs": [],
   "source": [
    "# 132. https://leetcode.com/problems/palindrome-partitioning-ii/\n",
    "class Solution:\n",
    "    def minCut(self, s: str) -> int:\n",
    "        # dp[i] => s[:i+1] minCut,  isPalindrome[i][j] => s[i:j+1] is palindrome\n",
    "        dp, isPalindrome  = [9999]*len(s), [[False] * len(s) for _ in range(len(s))]\n",
    "        for i in range(len(s)):\n",
    "            for j in range(i+1):\n",
    "                if s[j] == s[i] and (j+1 > i-1 or isPalindrome[j+1][i-1]):\n",
    "                    isPalindrome[j][i], dp[i] = True, 0 if j == 0 else min(dp[i], dp[j-1] + 1)\n",
    "        return dp[-1]"
   ]
  },
  {
   "cell_type": "code",
   "execution_count": 33,
   "metadata": {},
   "outputs": [],
   "source": [
    "# 133. https://leetcode.com/problems/clone-graph/\n",
    "class Solution:\n",
    "    d = {}\n",
    "    def cloneGraph(self, node: 'Node') -> 'Node':\n",
    "        if not node: return None\n",
    "        if node not in self.d:\n",
    "            self.d[node] = Node(node.val)\n",
    "            self.d[node].neighbors += [self.cloneGraph(n) for n in node.neighbors]\n",
    "        return self.d[node]"
   ]
  },
  {
   "cell_type": "code",
   "execution_count": 13,
   "metadata": {},
   "outputs": [],
   "source": [
    "# 134. https://leetcode.com/problems/gas-station/\n",
    "class Solution:\n",
    "    def canCompleteCircuit(self, gas: List[int], cost: List[int]) -> int:\n",
    "        a, mina, minIndx = 0, float('inf'), 0\n",
    "        for i in range(len(gas)):\n",
    "            a += gas[i] - cost[i]\n",
    "            if a < mina: minIndx, mina = i, a\n",
    "        return (minIndx + 1)%len(gas) if a >=0 else -1"
   ]
  },
  {
   "cell_type": "code",
   "execution_count": 37,
   "metadata": {},
   "outputs": [],
   "source": [
    "# 135. https://leetcode.com/problems/candy/\n",
    "class Solution:\n",
    "    def candy(self, ratings: List[int]) -> int:\n",
    "        n, s = len(ratings), [1]*len(ratings)\n",
    "        for i in range(1, n):\n",
    "            if ratings[i] > ratings[i-1]: s[i] = max(s[i], s[i-1]+1)\n",
    "        for i in reversed(range(n-1)):\n",
    "            if ratings[i] > ratings[i+1]: s[i] = max(s[i], s[i+1]+1)\n",
    "        return sum(s)"
   ]
  },
  {
   "cell_type": "code",
   "execution_count": 38,
   "metadata": {},
   "outputs": [],
   "source": [
    "# 136. https://leetcode.com/problems/single-number/\n",
    "from functools import reduce\n",
    "class Solution:\n",
    "    def singleNumber(self, nums: List[int]) -> int:\n",
    "        return reduce(lambda x, y: x^y, nums)"
   ]
  },
  {
   "cell_type": "code",
   "execution_count": 1,
   "metadata": {},
   "outputs": [],
   "source": [
    "# 137. https://leetcode.com/problems/single-number-ii/\n",
    "class Solution:\n",
    "    def singleNumber(self, nums: List[int]) -> int:\n",
    "        ans = 0\n",
    "        for i in range(32):\n",
    "            total = sum((num >> i) & 1 for num in nums)\n",
    "            if total % 3: ans = ans - (1 << i) if i == 31 else ans|(1<<i)\n",
    "        return ans"
   ]
  },
  {
   "cell_type": "code",
   "execution_count": 4,
   "metadata": {},
   "outputs": [],
   "source": [
    "# 138. https://leetcode.com/problems/copy-list-with-random-pointer/\n",
    "class Solution:\n",
    "    d = {}\n",
    "    def copyRandomList(self, head: 'Optional[Node]') -> 'Optional[Node]':\n",
    "        if not head: return None\n",
    "        if head in self.d: return self.d[head]\n",
    "        c = Node(head.val, head.next, head.random)\n",
    "        if head not in self.d:\n",
    "            self.d[head] = c\n",
    "            c.next, c.random = self.copyRandomList(head.next), self.copyRandomList(head.random)\n",
    "        return c"
   ]
  },
  {
   "cell_type": "code",
   "execution_count": 7,
   "metadata": {},
   "outputs": [],
   "source": [
    "# 139. https://leetcode.com/problems/word-break/\n",
    "class Solution:\n",
    "    def wordBreak(self, s: str, wordDict: List[str]) -> bool:\n",
    "        dp, wset = [i==0 for i in range(len(s)+1)], set(wordDict)\n",
    "        for i in range(1, len(s)+1):\n",
    "            dp[i] = any(dp[j] and (s[j:i] in wset) for j in range(i))\n",
    "        return dp[-1]"
   ]
  },
  {
   "cell_type": "code",
   "execution_count": 8,
   "metadata": {},
   "outputs": [],
   "source": [
    "# 140. https://leetcode.com/problems/word-break-ii/\n",
    "class Solution:\n",
    "    def wordBreak(self, s: str, wordDict: List[str]) -> List[str]:\n",
    "        path, sset = collections.defaultdict(list), set(wordDict); path[0] = [\"\"]\n",
    "        for i in range(len(s)+1):\n",
    "            for j in range(i):\n",
    "                if s[j:i] in sset and j in path:\n",
    "                    path[i].extend([a + \" \"*(j!=0) + s[j:i] for a in path[j]])\n",
    "        return path[len(s)]"
   ]
  },
  {
   "cell_type": "code",
   "execution_count": null,
   "metadata": {},
   "outputs": [],
   "source": []
  }
 ],
 "metadata": {
  "interpreter": {
   "hash": "376d9237ede9442d972b968135a4eef881e54875bb30b95a617238950d262340"
  },
  "kernelspec": {
   "display_name": "Python 3.9.9 ('base')",
   "language": "python",
   "name": "python3"
  },
  "language_info": {
   "codemirror_mode": {
    "name": "ipython",
    "version": 3
   },
   "file_extension": ".py",
   "mimetype": "text/x-python",
   "name": "python",
   "nbconvert_exporter": "python",
   "pygments_lexer": "ipython3",
   "version": "3.9.9"
  },
  "orig_nbformat": 4
 },
 "nbformat": 4,
 "nbformat_minor": 2
}
