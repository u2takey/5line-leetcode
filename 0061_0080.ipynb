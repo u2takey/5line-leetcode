{
 "cells": [
  {
   "cell_type": "code",
   "execution_count": 2,
   "metadata": {},
   "outputs": [],
   "source": [
    "# prepare\n",
    "from typing import Optional\n",
    "from typing import List\n",
    "class ListNode:\n",
    "    def __init__(self, val=0, next=None):\n",
    "        self.val = val\n",
    "        self.next = next"
   ]
  },
  {
   "cell_type": "code",
   "execution_count": 3,
   "metadata": {},
   "outputs": [],
   "source": [
    "# 61. https://leetcode.com/problems/rotate-list/\n",
    "class Solution:\n",
    "    def rotateRight(self, head: Optional[ListNode], k: int) -> Optional[ListNode]:\n",
    "        if not head or not k: return head\n",
    "        c, p, cur1, cur2 = 1, ListNode(head), head, head\n",
    "        while cur1.next: c, cur1 = c+1, cur1.next\n",
    "        k=(c-k%c)%c\n",
    "        while k: k, cur2, p = k-1, cur2.next, cur2\n",
    "        p.next, cur1.next = None, head if cur2 != head else None\n",
    "        return cur2\n",
    "        "
   ]
  },
  {
   "cell_type": "code",
   "execution_count": 4,
   "metadata": {},
   "outputs": [],
   "source": [
    "# 62. https://leetcode.com/problems/unique-paths/\n",
    "class Solution:\n",
    "    def uniquePaths(self, m: int, n: int) -> int:\n",
    "        dp = [[1]*n for _ in range(m)]\n",
    "        for i in reversed(range(m-1)):\n",
    "            for j in reversed(range(n-1)):\n",
    "                dp[i][j] = dp[i+1][j] + dp[i][j+1]\n",
    "        return dp[0][0]"
   ]
  },
  {
   "cell_type": "code",
   "execution_count": 5,
   "metadata": {},
   "outputs": [],
   "source": [
    "# 63. https://leetcode.com/problems/unique-paths-ii/\n",
    "class Solution:\n",
    "    def uniquePathsWithObstacles(self, grid: List[List[int]]) -> int:\n",
    "        m, n, dp = len(grid), len(grid[0]), [[0] * len(grid[0]) for _ in range(len(grid))]\n",
    "        for i in reversed(range(m)):\n",
    "            for j in reversed(range(n)):\n",
    "                dp[i][j] = ((dp[i+1][j] if i+1< m else 0) + (dp[i][j+1] if j +1<n else 0) + (i == m-1 and j == n-1)) *(1-grid[i][j])  \n",
    "        return dp[0][0]"
   ]
  },
  {
   "cell_type": "code",
   "execution_count": null,
   "metadata": {},
   "outputs": [],
   "source": [
    "# 64. https://leetcode.com/problems/minimum-path-sum/\n",
    "class Solution:\n",
    "    def minPathSum(self, grid: List[List[int]]) -> int:\n",
    "        m, n = len(grid), len(grid[0])\n",
    "        for i in reversed(range(m)):\n",
    "            for j in reversed(range(n)):\n",
    "                grid[i][j] = grid[i][j] + min(grid[i+1][j] if i+1 < m else float('inf') , grid[i][j+1] if j+1<n else float('inf'), 0 if i==m-1 and j==n-1 else float('inf'))\n",
    "        return grid[0][0]"
   ]
  },
  {
   "cell_type": "code",
   "execution_count": 6,
   "metadata": {},
   "outputs": [],
   "source": [
    "# 65. https://leetcode.com/problems/valid-number/\n",
    "import re\n",
    "class Solution:\n",
    "    def isNumber(self, s: str) -> bool:\n",
    "        return re.match(r'^[+-]?(([0-9]+[\\.]?[0-9]*)|([0-9]*[\\.]?[0-9]+))([eE][-+]?[0-9]+)?$',s) is not None"
   ]
  },
  {
   "cell_type": "code",
   "execution_count": 20,
   "metadata": {},
   "outputs": [],
   "source": [
    "# 66. https://leetcode.com/problems/plus-one/\n",
    "class Solution:\n",
    "    def plusOne(self, digits: List[int]) -> List[int]:\n",
    "        r = 1\n",
    "        for i in reversed(range(len(digits))):\n",
    "            r, digits[i] = divmod(digits[i]+r, 10)\n",
    "            if r == 0: break\n",
    "        return [r] + digits if r else digits"
   ]
  },
  {
   "cell_type": "code",
   "execution_count": 1,
   "metadata": {},
   "outputs": [],
   "source": [
    "# 67. https://leetcode.com/problems/add-binary/\n",
    "class Solution:\n",
    "    def addBinary(self, a: str, b: str) -> str:\n",
    "        if a == '0' and b == '0': return '0'\n",
    "        m, n, s, r = len(a), len(b), [0]*(max(len(a), len(b))+1), 0\n",
    "        for i in range(max(m, n)+1):\n",
    "            r, s[i] = divmod((int(a[-i-1]) if i < m else 0) + (int(b[-i-1]) if i < n else 0) + r, 2)\n",
    "        return ''.join(map(str, s)).rstrip('0')[::-1]"
   ]
  },
  {
   "cell_type": "code",
   "execution_count": 7,
   "metadata": {},
   "outputs": [],
   "source": [
    "# 68: https://leetcode.com/problems/text-justification/\n",
    "class Solution:\n",
    "    def fullJustify(self, words: List[str], maxWidth: int) -> List[str]:\n",
    "        res, cur, letter_count = [], [], 0\n",
    "        for w in words:\n",
    "            if letter_count + len(cur) + len(w) > maxWidth:\n",
    "                for i in range(maxWidth-letter_count): \n",
    "                    cur[i%(len(cur)-1 or 1)] += ' '\n",
    "                res, cur, letter_count = res + [''.join(cur)], [], 0\n",
    "            letter_count, cur = letter_count + len(w), cur + [w]\n",
    "        return res + [' '.join(cur).ljust(maxWidth)]"
   ]
  },
  {
   "cell_type": "code",
   "execution_count": 3,
   "metadata": {},
   "outputs": [],
   "source": [
    "# 69. https://leetcode.com/problems/sqrtx/\n",
    "class Solution:\n",
    "    def mySqrt(self, x: int) -> int:\n",
    "        # binary search\n",
    "        if x <= 1: return x\n",
    "        lo, hi = 1, x\n",
    "        while lo < hi:\n",
    "            mid = (lo + hi)//2\n",
    "            lo, hi = (lo, mid) if mid**2 > x else (mid+1, hi)\n",
    "        return lo - 1"
   ]
  },
  {
   "cell_type": "code",
   "execution_count": 29,
   "metadata": {},
   "outputs": [],
   "source": [
    "# 70. https://leetcode.com/problems/climbing-stairs/\n",
    "class Solution:\n",
    "    def climbStairs(self, n: int) -> int:\n",
    "        l2, l1 = 1, 2\n",
    "        for i in range(3, n+1):\n",
    "            l2, l1 = l1, l2 + l1\n",
    "        return l1 if n > 1 else 1"
   ]
  },
  {
   "cell_type": "code",
   "execution_count": 31,
   "metadata": {},
   "outputs": [],
   "source": [
    "# 71. https://leetcode.com/problems/simplify-path/\n",
    "class Solution:\n",
    "    def simplifyPath(self, path: str) -> str:\n",
    "        p = []\n",
    "        for a in path.split('/'):\n",
    "            if a == '..': p = p[:-1]\n",
    "            elif a != '.' and a != '': p = p + [a]\n",
    "        return '/' + '/'.join(p).rstrip('/') "
   ]
  },
  {
   "cell_type": "code",
   "execution_count": 32,
   "metadata": {},
   "outputs": [],
   "source": [
    "# 72. https://leetcode.com/problems/edit-distance/\n",
    "class Solution:\n",
    "    def minDistance(self, word1: str, word2: str) -> int:\n",
    "        m, n, dp = len(word1), len(word2), [[0] * (len(word2)+1) for _ in range(len(word1)+1)]\n",
    "        for i in range(0, m+1): dp[i][0] = i\n",
    "        for j in range(0, n+1): dp[0][j] = j\n",
    "        for i in range(1, m+1):\n",
    "            for j in range(1, n+1):\n",
    "                dp[i][j] = min(dp[i-1][j-1] + (word1[i-1] != word2[j-1]), dp[i-1][j] + 1, dp[i][j-1] + 1)\n",
    "        return dp[-1][-1]"
   ]
  },
  {
   "cell_type": "code",
   "execution_count": 33,
   "metadata": {},
   "outputs": [],
   "source": [
    "# 73. https://leetcode.com/problems/set-matrix-zeroes/\n",
    "# todo"
   ]
  },
  {
   "cell_type": "code",
   "execution_count": 13,
   "metadata": {},
   "outputs": [],
   "source": [
    "# 74. https://leetcode.com/problems/search-a-2d-matrix/\n",
    "class Solution:\n",
    "    def searchMatrix(self, matrix: List[List[int]], target: int) -> bool:\n",
    "        m, n, lo, hi = len(matrix), len(matrix[0]), 0, len(matrix)* len(matrix[0])-1\n",
    "        while lo <= hi:\n",
    "            mid = (lo + hi)//2;x, y = divmod(mid, n)\n",
    "            if matrix[x][y] == target: return True\n",
    "            elif matrix[x][y] > target: hi = mid - 1\n",
    "            else: lo = mid + 1\n",
    "        return False"
   ]
  },
  {
   "cell_type": "code",
   "execution_count": 37,
   "metadata": {},
   "outputs": [],
   "source": [
    "# 75. https://leetcode.com/problems/sort-colors/\n",
    "class Solution:\n",
    "    def sortColors(self, nums: List[int]) -> None:\n",
    "        # classic three-way-sort\n",
    "        left, right = 0, len(nums)-1\n",
    "        for i in range(len(nums)):\n",
    "            while i < right and nums[i] == 2:\n",
    "                nums[i], nums[right], right = nums[right], nums[i], right - 1\n",
    "            if nums[i] == 0:\n",
    "                nums[i], nums[left], left = nums[left], nums[i], left + 1"
   ]
  },
  {
   "cell_type": "code",
   "execution_count": 38,
   "metadata": {},
   "outputs": [],
   "source": [
    "# 76. https://leetcode.com/problems/minimum-window-substring/\n",
    "import collections\n",
    "class Solution:\n",
    "    def minWindow(self, s: str, t: str) -> str:\n",
    "        d = collections.Counter(t); lo, c, ret, retl = 0, len(d), \"\", 999999\n",
    "        for i, a in enumerate(s):\n",
    "            d[a], c = d[a] - 1, c - (d[a] == 1)\n",
    "            while c == 0:\n",
    "                if i - lo + 1 < retl: retl, ret = i - lo + 1, s[lo:i+1] \n",
    "                d[s[lo]], c, lo = d[s[lo]] + 1, c + (d[s[lo]]==0), lo + 1\n",
    "        return ret"
   ]
  },
  {
   "cell_type": "code",
   "execution_count": 1,
   "metadata": {},
   "outputs": [],
   "source": [
    "# 77. https://leetcode.com/problems/combinations/\n",
    "class Solution:\n",
    "    def combine(self, n: int, k: int) -> List[List[int]]:\n",
    "        def helper(i, k):\n",
    "            if k == 0: return [[]]\n",
    "            elif n-i+1 < k: return []\n",
    "            return [b + [j] for j in range(i, n+1) for b in helper(j+1, k-1)] \n",
    "        return helper(1, k)"
   ]
  },
  {
   "cell_type": "code",
   "execution_count": 4,
   "metadata": {},
   "outputs": [],
   "source": [
    "# 78. https://leetcode.com/problems/subsets/\n",
    "class Solution:\n",
    "    def subsets(self, nums: List[int]) -> List[List[int]]:\n",
    "        if not nums: return [[]]\n",
    "        l = self.subsets(nums[1:])\n",
    "        return [[nums[0]] + a for a in l] + l"
   ]
  },
  {
   "cell_type": "code",
   "execution_count": 7,
   "metadata": {},
   "outputs": [],
   "source": [
    "# 79. https://leetcode.com/problems/word-search/\n",
    "class Solution:\n",
    "    def exist(self, board: List[List[str]], word: str) -> bool:\n",
    "        def dfs(i, j, k, seen):\n",
    "            if k >= len(word): return True\n",
    "            if 0 <= i < len(board) and 0<= j < len(board[0]) and board[i][j] == word[k] and (i, j) not in seen:\n",
    "                return any(dfs(i+a[0], j+a[1], k+1, seen.union({(i, j)})) for a in [(-1, 0), (1, 0), (0, -1), (0, 1)]) \n",
    "            return False\n",
    "        return any(dfs(i, j, 0, set()) for i in range(len(board)) for j in range(len(board[0])))"
   ]
  },
  {
   "cell_type": "code",
   "execution_count": 8,
   "metadata": {},
   "outputs": [],
   "source": [
    "# 80. https://leetcode.com/problems/remove-duplicates-from-sorted-array-ii/\n",
    "class Solution:\n",
    "    def removeDuplicates(self, nums: List[int]) -> int:\n",
    "        c, p, i = 0, '', 0\n",
    "        for a in nums:\n",
    "            c, p = c + 1 if a == p else 1, a\n",
    "            if c <= 2: nums[i], i = a, i + 1\n",
    "        return i"
   ]
  },
  {
   "cell_type": "code",
   "execution_count": null,
   "metadata": {},
   "outputs": [],
   "source": []
  }
 ],
 "metadata": {
  "interpreter": {
   "hash": "376d9237ede9442d972b968135a4eef881e54875bb30b95a617238950d262340"
  },
  "kernelspec": {
   "display_name": "Python 3.9.9 ('base')",
   "language": "python",
   "name": "python3"
  },
  "language_info": {
   "codemirror_mode": {
    "name": "ipython",
    "version": 3
   },
   "file_extension": ".py",
   "mimetype": "text/x-python",
   "name": "python",
   "nbconvert_exporter": "python",
   "pygments_lexer": "ipython3",
   "version": "3.9.9"
  },
  "orig_nbformat": 4
 },
 "nbformat": 4,
 "nbformat_minor": 2
}
