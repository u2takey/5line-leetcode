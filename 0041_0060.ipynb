{
 "cells": [
  {
   "cell_type": "code",
   "execution_count": 2,
   "metadata": {},
   "outputs": [],
   "source": [
    "# prepare\n",
    "from typing import Optional\n",
    "from typing import List\n",
    "class ListNode:\n",
    "    def __init__(self, val=0, next=None):\n",
    "        self.val = val\n",
    "        self.next = next"
   ]
  },
  {
   "cell_type": "code",
   "execution_count": 3,
   "metadata": {},
   "outputs": [],
   "source": [
    "# 41. https://leetcode.com/problems/first-missing-positive/\n",
    "class Solution:\n",
    "    def firstMissingPositive(self, nums: List[int]) -> int:\n",
    "        for i, a in enumerate(nums):\n",
    "            while 0 < a < len(nums) + 1 and nums[a-1] != a:\n",
    "                nums[a-1], a = a, nums[a-1]\n",
    "        for i, a in enumerate(nums):\n",
    "            if a != i+1: return i+1\n",
    "        return len(nums)+1\n",
    "        "
   ]
  },
  {
   "cell_type": "code",
   "execution_count": 4,
   "metadata": {},
   "outputs": [],
   "source": [
    "# 42. https://leetcode.com/problems/trapping-rain-water/\n",
    "# 1. stack\n",
    "class Solution:\n",
    "    def trap(self, height: List[int]) -> int:\n",
    "        # 保持stack递减, pop的时候加上 pop的可以加的高度 * (当前-前面一个)距离\n",
    "        s, lmax, r = [], 0, 0 \n",
    "        for i, a in enumerate(height):\n",
    "            while s and a >= s[-1][1]:\n",
    "                j, b = s.pop()\n",
    "                r = r + (i - s[-1][0] - 1)* (min(a, s[-1][1]) - b) if s else r\n",
    "            s.append((i, a))\n",
    "        return r\n",
    "\n",
    "# 2. two pointer   \n",
    "class Solution1:\n",
    "    def trap(self, height: List[int]) -> int:\n",
    "        l, r, c, lmax, rmax = 0, len(height)-1, 0, 0, 0\n",
    "        while l < r:\n",
    "            lmax, rmax = max(lmax, height[l]), max(rmax, height[r])\n",
    "            if height[l] <= height[r]: c, l = c + (lmax - height[l]), l + 1\n",
    "            else: c, r = c + (rmax - height[r]), r - 1\n",
    "        return c      \n",
    "        \n",
    "# 3. two loop left, right \n",
    "class Solution2:     \n",
    "    def trap(self, height: List[int]) -> int:\n",
    "        lmax, rmax, n, c, left, right = 0, 0, len(height), 0, [0]*n, [0]*n\n",
    "        for i in range(len(height)):\n",
    "            lmax, rmax = max(lmax, height[i]), max(rmax, height[n-i-1])\n",
    "            left[i], right[n-i-1] = lmax, rmax\n",
    "        for i in range(len(height)):\n",
    "            c += min(left[i], right[i]) - height[i]\n",
    "        return c"
   ]
  },
  {
   "cell_type": "code",
   "execution_count": 5,
   "metadata": {},
   "outputs": [],
   "source": [
    "# 43. https://leetcode.com/problems/multiply-strings/\n",
    "class Solution:\n",
    "    def multiply(self, num1: str, num2: str) -> str:\n",
    "        n1, n2, ret = len(num1), len(num2), [0]*(len(num1)*len(num2)+1)\n",
    "        for i in range(n1):\n",
    "            for j in range(n2):\n",
    "                a, b = divmod(int(num1[-i-1])*int(num2[-j-1]), 10)\n",
    "                ret[i+j], ret[i+j+1] = (ret[i+j] + b) % 10, ret[i+j+1] + (ret[i+j] + b) // 10 + a \n",
    "        return ''.join(map(str, ret)).rstrip(\"0\")[::-1] or '0'"
   ]
  },
  {
   "cell_type": "code",
   "execution_count": null,
   "metadata": {},
   "outputs": [],
   "source": [
    "# 44. https://leetcode.com/problems/wildcard-matching/\n",
    "class Solution:\n",
    "    def isMatch(self, s: str, p: str) -> bool:\n",
    "        # dp[i][j] = p[j] == '*': dp[i][j-1] or dp[i-1][j] \n",
    "        #          = dp[i-1][j-1] if s[i] equals p[j] (equal means s[i] == p[j] or p[j] == '?')\n",
    "        dp = [[False]*(len(p)+1) for _ in range(len(s)+1)]\n",
    "        for i in range(len(p)+1): dp[0][i] = i == 0 or (dp[0][i-1] and p[i-1] == '*')\n",
    "        for i in range(1, len(s)+1):\n",
    "            for j in range(1, len(p)+1):\n",
    "                dp[i][j] = (dp[i][j-1] or dp[i-1][j]) if p[j-1] == '*' else (dp[i-1][j-1] and (s[i-1] == p[j-1] or p[j-1] == '?'))\n",
    "        return dp[-1][-1]"
   ]
  },
  {
   "cell_type": "code",
   "execution_count": 6,
   "metadata": {},
   "outputs": [],
   "source": [
    "# 45. https://leetcode.com/problems/jump-game-ii/\n",
    "class Solution:\n",
    "    def jump(self, nums: List[int]) -> int:\n",
    "        lo, hi, step = 0, 0, 0\n",
    "        while hi < len(nums) - 1:\n",
    "            step, lo, hi = step+1, hi+1, max(i+nums[i] for i in range(lo, hi+1))\n",
    "        return step"
   ]
  },
  {
   "cell_type": "code",
   "execution_count": 20,
   "metadata": {},
   "outputs": [],
   "source": [
    "# 46. https://leetcode.com/problems/permutations/\n",
    "class Solution:\n",
    "    def permute(self, nums: List[int]) -> List[List[int]]:\n",
    "        return [[nums[0]]] if len(nums) == 1 else [[nums[i]] + a for i in range(len(nums)) for a in self.permute(nums[:i] + nums[i+1:])]"
   ]
  },
  {
   "cell_type": "code",
   "execution_count": 1,
   "metadata": {},
   "outputs": [],
   "source": [
    "# 47. https://leetcode.com/problems/permutations-ii/\n",
    "class Solution:\n",
    "    def permuteUnique(self, nums: List[int]) -> List[List[int]]:\n",
    "        r = [[nums[0]]] if len(nums) == 1 else [[nums[i]] + a for i in range(len(nums)) for a in self.permuteUnique(nums[:i] + nums[i+1:])]\n",
    "        return [list(b) for b in set(tuple(a) for a in r)]"
   ]
  },
  {
   "cell_type": "code",
   "execution_count": 7,
   "metadata": {},
   "outputs": [],
   "source": [
    "# 48: https://leetcode.com/problems/rotate-image/\n",
    "class Solution:\n",
    "    def rotate(self, matrix: List[List[int]]) -> None:\n",
    "        n = len(matrix)\n",
    "        for i in range(n // 2):\n",
    "            for j in range((n + 1) // 2):\n",
    "                matrix[i][j], matrix[n - j - 1][i], matrix[n - i - 1][n - j - 1], matrix[j][n - i - 1] \\\n",
    "                    = matrix[n - j - 1][i], matrix[n - i - 1][n - j - 1], matrix[j][n - i - 1], matrix[i][j]"
   ]
  },
  {
   "cell_type": "code",
   "execution_count": 3,
   "metadata": {},
   "outputs": [],
   "source": [
    "# 49. https://leetcode.com/problems/group-anagrams/\n",
    "class Solution:\n",
    "    def groupAnagrams(self, strs: List[str]) -> List[List[str]]:\n",
    "        prime = [2, 3, 5, 7, 11, 13, 17, 19, 23, 29, 31, 41, 43, 47, 53, 59, 61, 67, 71, 73, 79, 83, 89, 97, 101, 103]\n",
    "        def key(w): return reduce(lambda x, y: x*prime[ord(y)-97], w, 1)\n",
    "        d=collections.defaultdict(list)\n",
    "        for a in strs:\n",
    "            d[key(a)].append(a)\n",
    "        return list(d.values())"
   ]
  },
  {
   "cell_type": "code",
   "execution_count": 29,
   "metadata": {},
   "outputs": [],
   "source": [
    "# 50. https://leetcode.com/problems/powx-n/\n",
    "class Solution:\n",
    "    def myPow(self, x: float, n: int) -> float:\n",
    "        if n < 0: x, n = 1/x, -n\n",
    "        if n == 1: return x\n",
    "        if n == 0: return 1\n",
    "        return self.myPow(x*x, n//2) if n%2 == 0 else self.myPow(x*x, n//2)*x"
   ]
  },
  {
   "cell_type": "code",
   "execution_count": 31,
   "metadata": {},
   "outputs": [],
   "source": [
    "# 51. https://leetcode.com/problems/n-queens/\n",
    "# todo"
   ]
  },
  {
   "cell_type": "code",
   "execution_count": 32,
   "metadata": {},
   "outputs": [],
   "source": [
    "# 52. https://leetcode.com/problems/n-queens-ii/\n",
    "# todo"
   ]
  },
  {
   "cell_type": "code",
   "execution_count": 33,
   "metadata": {},
   "outputs": [],
   "source": [
    "# 53. https://leetcode.com/problems/maximum-subarray/\n",
    "class Solution:\n",
    "    def maxSubArray(self, nums: List[int]) -> int:\n",
    "        m, n = float('-inf'), float('-inf')\n",
    "        for a in nums:\n",
    "            m = max(m + a, a)\n",
    "            n = max(n, m)\n",
    "        return n"
   ]
  },
  {
   "cell_type": "code",
   "execution_count": 13,
   "metadata": {},
   "outputs": [],
   "source": [
    "# 54. https://leetcode.com/problems/spiral-matrix/\n",
    "class Solution:\n",
    "    def spiralOrder(self, matrix: List[List[int]]) -> List[int]:\n",
    "        m, n, c, ret, i, j, seen = len(matrix), len(matrix[0]), len(matrix)*len(matrix[0]), [], 0, -1, set()\n",
    "        di, diIndex= [(0,1), (1, 0), (0, -1), (-1, 0)], 0\n",
    "        while c:\n",
    "            it, jt = i+di[diIndex%4][0], j+di[diIndex%4][1]\n",
    "            if not (0 <=it <m and 0<=jt < n and (it,jt) not in seen): diIndex += 1\n",
    "            else: i, j, c = it, jt, c-1; seen.add((i, j));ret.append(matrix[i][j])\n",
    "        return ret"
   ]
  },
  {
   "cell_type": "code",
   "execution_count": 37,
   "metadata": {},
   "outputs": [],
   "source": [
    "# 55. https://leetcode.com/problems/jump-game/\n",
    "class Solution:\n",
    "    def canJump(self, nums: List[int]) -> bool:\n",
    "        canReach, i, n = 0, 0, len(nums)\n",
    "        while i <= canReach:\n",
    "            canReach, i = max(canReach, i+nums[i]), i+1\n",
    "            if canReach >= n-1: return True\n",
    "        return False"
   ]
  },
  {
   "cell_type": "code",
   "execution_count": 38,
   "metadata": {},
   "outputs": [],
   "source": [
    "# 56. https://leetcode.com/problems/merge-intervals/\n",
    "class Solution:\n",
    "    def merge(self, intervals: List[List[int]]) -> List[List[int]]:\n",
    "        intervals, r = sorted(intervals, key=lambda x: (x[0], x[1])), [[0, -1]]\n",
    "        for s, e in intervals:\n",
    "            if s <= r[-1][1]: r[-1][1] = max(r[-1][1], e)\n",
    "            else: r.append([s, e])\n",
    "        return r[1:]"
   ]
  },
  {
   "cell_type": "code",
   "execution_count": 1,
   "metadata": {},
   "outputs": [],
   "source": [
    "# 57. https://leetcode.com/problems/insert-interval/\n",
    "class Solution:\n",
    "    def insert(self, intervals: List[List[int]], newInterval: List[int]) -> List[List[int]]:\n",
    "        s, e, left, right = newInterval[0], newInterval[1], [], []\n",
    "        for lo, hi in intervals:\n",
    "            if hi < s: left += [lo, hi],\n",
    "            elif lo > e: right += [lo, hi],\n",
    "            else: s, e = min(s, lo), max(e, hi)\n",
    "        return left + [[s, e]] + right"
   ]
  },
  {
   "cell_type": "code",
   "execution_count": 4,
   "metadata": {},
   "outputs": [],
   "source": [
    "# 58. https://leetcode.com/problems/length-of-last-word\n",
    "class Solution:\n",
    "    def lengthOfLastWord(self, s: str) -> int:\n",
    "        l = 0\n",
    "        for i in reversed(range(len(s))):\n",
    "            if s[i] == ' ' and l: return l\n",
    "            elif s[i] != ' ': l += 1\n",
    "        return l\n",
    "        "
   ]
  },
  {
   "cell_type": "code",
   "execution_count": 7,
   "metadata": {},
   "outputs": [],
   "source": [
    "# 59. https://leetcode.com/problems/spiral-matrix-ii/\n",
    "class Solution:\n",
    "    def generateMatrix(self, n: int) -> List[List[int]]:\n",
    "        dirs, matrix, row, col, dirIdx = [(0,1), (1,0), (0,-1), (-1,0)], [[0] * n for _ in range(n)], 0, 0, 0\n",
    "        for i in range(n * n):\n",
    "            matrix[row][col], dx, dy = i+1, dirs[dirIdx%4][0], dirs[dirIdx%4][1]\n",
    "            if not (0 <= row + dx < n and 0 <= col + dy < n and matrix[row + dx][col + dy] == 0):\n",
    "                dirIdx, dx, dy = dirIdx + 1, dirs[(dirIdx+1)%4][0], dirs[(dirIdx+1)%4][1] \n",
    "            row, col = row + dx, col + dy          \n",
    "        return matrix"
   ]
  },
  {
   "cell_type": "code",
   "execution_count": 8,
   "metadata": {},
   "outputs": [],
   "source": [
    "# 60. https://leetcode.com/problems/combination-sum-ii/\n",
    "import math\n",
    "class Solution:\n",
    "    def getPermutation(self, n: int, k: int) -> str:\n",
    "        l, r, k = [str(i) for i in range(1, n+1)], '', k-1\n",
    "        while l:\n",
    "            i, k = divmod(k, math.factorial(len(l)-1))\n",
    "            l, r = l[:i] + l[i+1:], r + l[i]\n",
    "        return r"
   ]
  },
  {
   "cell_type": "code",
   "execution_count": null,
   "metadata": {},
   "outputs": [],
   "source": []
  }
 ],
 "metadata": {
  "interpreter": {
   "hash": "376d9237ede9442d972b968135a4eef881e54875bb30b95a617238950d262340"
  },
  "kernelspec": {
   "display_name": "Python 3.9.9 ('base')",
   "language": "python",
   "name": "python3"
  },
  "language_info": {
   "codemirror_mode": {
    "name": "ipython",
    "version": 3
   },
   "file_extension": ".py",
   "mimetype": "text/x-python",
   "name": "python",
   "nbconvert_exporter": "python",
   "pygments_lexer": "ipython3",
   "version": "3.9.9"
  },
  "orig_nbformat": 4
 },
 "nbformat": 4,
 "nbformat_minor": 2
}
