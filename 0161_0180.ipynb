{
 "cells": [
  {
   "cell_type": "code",
   "execution_count": 1,
   "metadata": {},
   "outputs": [],
   "source": [
    "# prepare\n",
    "from typing import Optional\n",
    "from typing import List\n",
    "class ListNode:\n",
    "    def __init__(self, val=0, next=None):\n",
    "        self.val = val\n",
    "        self.next = next\n",
    "\n",
    "class TreeNode:\n",
    "    def __init__(self, val=0, left=None, right=None):\n",
    "        self.val = val\n",
    "        self.left = left\n",
    "        self.right = right\n",
    "\n",
    "class Node:\n",
    "    def __init__(self, val: int = 0, left: 'Node' = None, right: 'Node' = None, next: 'Node' = None):\n",
    "        self.val = val\n",
    "        self.left = left\n",
    "        self.right = right\n",
    "        self.next = next"
   ]
  },
  {
   "cell_type": "code",
   "execution_count": 3,
   "metadata": {},
   "outputs": [],
   "source": [
    "# 161. https://leetcode.com/problems/one-edit-distance/\n",
    "# todo"
   ]
  },
  {
   "cell_type": "code",
   "execution_count": 4,
   "metadata": {},
   "outputs": [],
   "source": [
    "# 162. https://leetcode.com/problems/find-peak-element/\n",
    "class Solution:\n",
    "    def findPeakElement(self, nums: List[int]) -> int:\n",
    "        lo, hi = 0, len(nums)-1\n",
    "        while lo < hi:\n",
    "            mid = (lo + hi)//2\n",
    "            if nums[mid+1] > nums[mid]: lo = mid + 1\n",
    "            else: hi = mid \n",
    "        return lo\n"
   ]
  },
  {
   "cell_type": "code",
   "execution_count": 5,
   "metadata": {},
   "outputs": [],
   "source": [
    "# 163. https://leetcode.com/problems/missing-ranges/\n",
    "# todo"
   ]
  },
  {
   "cell_type": "code",
   "execution_count": null,
   "metadata": {},
   "outputs": [],
   "source": [
    "# 164. https://leetcode.com/problems/maximum-gap/\n",
    "class Solution:\n",
    "    def maximumGap(self, nums: List[int]) -> int:\n",
    "        def radixSort(nums):\n",
    "            maxn, index, bucket = max(nums), 1,  [[] for _ in range(10)]\n",
    "            while index <= maxn:\n",
    "                for n in nums: bucket[(n//index)%10].append(n)\n",
    "                nums, bucket, index = [a for b in bucket for a in b],  [[] for _ in range(10)], index*10, \n",
    "            return nums\n",
    "        nums = radixSort(nums)\n",
    "        return max(nums[i] - nums[i-1] for i in range(1, len(nums))) if len(nums) > 1 else 0"
   ]
  },
  {
   "cell_type": "code",
   "execution_count": 6,
   "metadata": {},
   "outputs": [],
   "source": [
    "# 165. https://leetcode.com/problems/compare-version-numbers/\n",
    "import itertools\n",
    "class Solution:\n",
    "    def compareVersion(self, version1: str, version2: str) -> int:\n",
    "        v = itertools.zip_longest(version1.split('.'), version2.split('.'), fillvalue=0)\n",
    "        for v1, v2 in v:\n",
    "            i1, i2 = int(v1), int(v2)\n",
    "            if i1 < i2: return -1\n",
    "            elif i1 > i2: return 1\n",
    "        return 0"
   ]
  },
  {
   "cell_type": "code",
   "execution_count": 20,
   "metadata": {},
   "outputs": [],
   "source": [
    "# 166. https://leetcode.com/problems/fraction-to-recurring-decimal/\n",
    "# class Solution:\n",
    "    def fractionToDecimal(self, numerator: int, denominator: int) -> str:\n",
    "        # todo:\n",
    "        pass"
   ]
  },
  {
   "cell_type": "code",
   "execution_count": 1,
   "metadata": {},
   "outputs": [],
   "source": [
    "# 167. https://leetcode.com/problems/two-sum-ii-input-array-is-sorted/\n",
    "class Solution:\n",
    "    def twoSum(self, numbers: List[int], target: int) -> List[int]:\n",
    "        lo, hi = 0, len(numbers)-1\n",
    "        while lo < hi:\n",
    "            a = numbers[lo] + numbers[hi]\n",
    "            if a == target: return [lo+1, hi+1]\n",
    "            lo, hi = (lo+1, hi) if a < target else (lo, hi-1)"
   ]
  },
  {
   "cell_type": "code",
   "execution_count": 7,
   "metadata": {},
   "outputs": [],
   "source": [
    "# 168: https://leetcode.com/problems/excel-sheet-column-title/\n",
    "class Solution:\n",
    "    def convertToTitle(self, columnNumber: int) -> str:\n",
    "        r = ''\n",
    "        while columnNumber:\n",
    "            columnNumber, a = divmod(columnNumber-1, 26)\n",
    "            r = chr(a+65) + r\n",
    "        return r"
   ]
  },
  {
   "cell_type": "code",
   "execution_count": 3,
   "metadata": {},
   "outputs": [],
   "source": [
    "# 169. https://leetcode.com/problems/majority-element/\n",
    "class Solution:\n",
    "    def majorityElement(self, nums: List[int]) -> int:\n",
    "        c, m = 0, None\n",
    "        for a in nums:\n",
    "            m = a if c == 0 else m \n",
    "            c = (c + 1) if a == m or m == None else (c - 1)\n",
    "        return m"
   ]
  },
  {
   "cell_type": "code",
   "execution_count": 29,
   "metadata": {},
   "outputs": [],
   "source": [
    "# 170. https://leetcode.com/problems/two-sum-iii-data-structure-design/\n",
    "# todo"
   ]
  },
  {
   "cell_type": "code",
   "execution_count": 31,
   "metadata": {},
   "outputs": [],
   "source": [
    "# 171. https://leetcode.com/problems/excel-sheet-column-number/\n",
    "class Solution:\n",
    "    def titleToNumber(self, columnTitle: str) -> int:\n",
    "        r = 0\n",
    "        for a in columnTitle:\n",
    "            r = r*26 + ord(a)-64\n",
    "        return r"
   ]
  },
  {
   "cell_type": "code",
   "execution_count": 32,
   "metadata": {},
   "outputs": [],
   "source": [
    "# 172. https://leetcode.com/problems/factorial-trailing-zeroes/\n",
    "class Solution:\n",
    "    def trailingZeroes(self, n: int) -> int:\n",
    "        a = 0\n",
    "        while n:\n",
    "            a, n = a + n//5, n//5\n",
    "        return a"
   ]
  },
  {
   "cell_type": "code",
   "execution_count": 33,
   "metadata": {},
   "outputs": [],
   "source": [
    "# 153. https://leetcode.com/problems/binary-search-tree-iterator/\n",
    "class BSTIterator:\n",
    "    \n",
    "    def __init__(self, root: TreeNode):\n",
    "        self.root, self.q = root, []\n",
    "\n",
    "    def next(self) -> int:\n",
    "        while self.root or self.q:\n",
    "            if self.root:\n",
    "                self.q.append(self.root)\n",
    "                self.root = self.root.left\n",
    "            else:\n",
    "                n = self.q.pop()\n",
    "                self.root = n.right\n",
    "                return n.val\n",
    "        \n",
    "\n",
    "    def hasNext(self) -> bool:\n",
    "        return bool(self.root or self.q)\n"
   ]
  },
  {
   "cell_type": "code",
   "execution_count": 13,
   "metadata": {},
   "outputs": [],
   "source": [
    "# 174. https://leetcode.com/problems/dungeon-game/\n",
    "class Solution:\n",
    "    def calculateMinimumHP(self, dungeon: List[List[int]]) -> int:\n",
    "        m, n = len(dungeon), len(dungeon[0]);d = [[float('inf')] * (n+1) for _ in range(m+1)]\n",
    "        d[m][n-1] = d[m-1][n] = 1\n",
    "        for i in reversed(range(m)):\n",
    "            for j in reversed(range(n)):\n",
    "                d[i][j] = max(1, min(d[i+1][j] - dungeon[i][j], d[i][j+1] - dungeon[i][j]))\n",
    "        return d[0][0]"
   ]
  },
  {
   "cell_type": "code",
   "execution_count": 37,
   "metadata": {},
   "outputs": [],
   "source": [
    "# 175. https://leetcode.com/problems/combine-two-tables/\n",
    "# select firstName, lastName, city, state from Person left join Address on Person.personId = Address.personId;"
   ]
  },
  {
   "cell_type": "code",
   "execution_count": 38,
   "metadata": {},
   "outputs": [],
   "source": [
    "# 176. https://leetcode.com/problems/second-highest-salary/\n",
    "# SELECT \n",
    "#     IFNULL(\n",
    "#       (SELECT DISTINCT Salary\n",
    "#        FROM Employee\n",
    "#        ORDER BY Salary DESC\n",
    "#         LIMIT 1 OFFSET 1),\n",
    "#     NULL) AS SecondHighestSalary"
   ]
  },
  {
   "cell_type": "code",
   "execution_count": 1,
   "metadata": {},
   "outputs": [],
   "source": [
    "# 177. https://leetcode.com/problems/nth-highest-salary/\n",
    "# CREATE FUNCTION getNthHighestSalary(N INT) RETURNS INT\n",
    "# BEGIN\n",
    "#     SET N := N-1;\n",
    "#   RETURN (\n",
    "#       # Write your MySQL query statement below.\n",
    "#       SELECT \n",
    "#             salary\n",
    "#       FROM \n",
    "#             employee\n",
    "#       GROUP BY \n",
    "#             salary\n",
    "#       ORDER BY \n",
    "#             salary DESC\n",
    "#       LIMIT N, 1\n",
    "#   );\n",
    "# END"
   ]
  },
  {
   "cell_type": "code",
   "execution_count": 4,
   "metadata": {},
   "outputs": [],
   "source": [
    "# 178. https://leetcode.com/problems/rank-scores/\n",
    "# select score, dense_rank() over (order by score desc) as 'rank' from scores;"
   ]
  },
  {
   "cell_type": "code",
   "execution_count": 7,
   "metadata": {},
   "outputs": [],
   "source": [
    "# 179. https://leetcode.com/problems/largest-number/\n",
    "from functools import cmp_to_key\n",
    "class Solution:\n",
    "    def largestNumber(self, nums: List[int]) -> str:\n",
    "        s = ''.join(sorted(map(str, nums), key=cmp_to_key(lambda x, y: 1 if (x+y) < (y+x) else -1))).lstrip('0')\n",
    "        return s if s else '0'"
   ]
  },
  {
   "cell_type": "code",
   "execution_count": 8,
   "metadata": {},
   "outputs": [],
   "source": [
    "# 180. https://leetcode.com/problems/consecutive-numbers/\n",
    "# SELECT DISTINCT\n",
    "#     l1.Num AS ConsecutiveNums\n",
    "# FROM\n",
    "#     Logs l1,\n",
    "#     Logs l2,\n",
    "#     Logs l3\n",
    "# WHERE\n",
    "#     l1.Id = l2.Id - 1\n",
    "#     AND l2.Id = l3.Id - 1\n",
    "#     AND l1.Num = l2.Num\n",
    "#     AND l2.Num = l3.Num"
   ]
  },
  {
   "cell_type": "code",
   "execution_count": null,
   "metadata": {},
   "outputs": [],
   "source": []
  }
 ],
 "metadata": {
  "interpreter": {
   "hash": "376d9237ede9442d972b968135a4eef881e54875bb30b95a617238950d262340"
  },
  "kernelspec": {
   "display_name": "Python 3.9.9 ('base')",
   "language": "python",
   "name": "python3"
  },
  "language_info": {
   "codemirror_mode": {
    "name": "ipython",
    "version": 3
   },
   "file_extension": ".py",
   "mimetype": "text/x-python",
   "name": "python",
   "nbconvert_exporter": "python",
   "pygments_lexer": "ipython3",
   "version": "3.9.9"
  },
  "orig_nbformat": 4
 },
 "nbformat": 4,
 "nbformat_minor": 2
}
