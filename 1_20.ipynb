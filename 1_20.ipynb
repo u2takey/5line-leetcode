{
 "cells": [
  {
   "cell_type": "code",
   "execution_count": 6,
   "metadata": {},
   "outputs": [],
   "source": [
    "# prepare\n",
    "from typing import Optional\n",
    "from typing import List\n",
    "class ListNode:\n",
    "    def __init__(self, val=0, next=None):\n",
    "        self.val = val\n",
    "        self.next = next"
   ]
  },
  {
   "cell_type": "code",
   "execution_count": null,
   "metadata": {},
   "outputs": [],
   "source": [
    "# 1. https://leetcode.com/problems/two-sum/\n",
    "class Solution:\n",
    "    def twoSum(self, nums: List[int], target: int) -> List[int]:\n",
    "        d = {}\n",
    "        for i, a in enumerate(nums):\n",
    "            if target - a in d: return [d[target - a], i]\n",
    "            d[a] = i"
   ]
  },
  {
   "cell_type": "code",
   "execution_count": 40,
   "metadata": {},
   "outputs": [],
   "source": [
    "# 2. https://leetcode.com/problems/add-two-numbers/\n",
    "class ListNode:\n",
    "    def __init__(self, val=0, next=None):\n",
    "        self.val = val\n",
    "        self.next = next\n",
    "\n",
    "class Solution:\n",
    "    def addTwoNumbers(self, l1: Optional[ListNode], l2: Optional[ListNode]) -> Optional[ListNode]:\n",
    "        dummy = head = ListNode(); r = 0\n",
    "        while l1 or l2 or r:\n",
    "            (r, v), (l1, l2) = divmod((l1.val if l1 else 0) + (l2.val if l2 else 0) + r, 10), (l1.next if l1 else None, l2.next if l2 else None)\n",
    "            head.next = head = ListNode(v)\n",
    "        return dummy.next"
   ]
  },
  {
   "cell_type": "code",
   "execution_count": null,
   "metadata": {},
   "outputs": [],
   "source": [
    "# 3. https://leetcode.com/problems/longest-substring-without-repeating-characters/submissions/\n",
    "class Solution:\n",
    "    def lengthOfLongestSubstring(self, s: str) -> int:\n",
    "        d, left, distance = {}, 0, 0\n",
    "        for i, a in enumerate(s):\n",
    "            left, d[a] = max(left, d.get(a, -1) + 1), i\n",
    "            distance = max(distance, i - left + 1)\n",
    "        return distance"
   ]
  },
  {
   "cell_type": "code",
   "execution_count": null,
   "metadata": {},
   "outputs": [],
   "source": [
    "# 4. https://leetcode.com/problems/median-of-two-sorted-arrays/\n",
    "# todo"
   ]
  },
  {
   "cell_type": "code",
   "execution_count": 19,
   "metadata": {},
   "outputs": [
    {
     "data": {
      "text/plain": [
       "'xnnx'"
      ]
     },
     "execution_count": 19,
     "metadata": {},
     "output_type": "execute_result"
    }
   ],
   "source": [
    "# 5. https://leetcode.com/problems/longest-palindromic-substring/\n",
    "# O(n^2) solution with dp ==>\n",
    "class Solution:\n",
    "    def longestPalindrome(self, s: str) -> str:\n",
    "        # dp[i][j]: s[i:j+1] is palindrome, dp[i][j] is length of s[i:j+1]\n",
    "        dp, n, maxs = [[0] * len(s) for _ in range(len(s))], len(s), ''\n",
    "        for i in reversed(range(n)):\n",
    "            for j in range(i, n):\n",
    "                dp[i][j] = 1 if j == i else ( 2*(s[i] == s[j]) if j == i+1 else ( (2+dp[i+1][j-1]) * (s[i] == s[j]) if dp[i+1][j-1] else 0 ) )\n",
    "                maxs = s[i:j+1] if dp[i][j] > len(maxs) else maxs\n",
    "        return maxs\n",
    "\n",
    "# O(n) solution with 'manacher' ==>\n",
    "class Solution1:\n",
    "    def longestPalindrome(self, s: 'str') -> 'str':\n",
    "        # manacher\n",
    "        s = \"$#\" + \"#\".join(s) + \"#&\"\n",
    "        center, right, z = 0, 0, [0]*len(s)\n",
    "        for i in range(1, len(s) - 1):\n",
    "            if i < right: \n",
    "                z[i] = min(right - i, z[2*center - i])\n",
    "            while s[i + z[i] + 1] == s[i - z[i] - 1]: \n",
    "                z[i] += 1\n",
    "            if i + z[i] > right: \n",
    "                right, center = i + z[i], i\n",
    "        maxr, maxi = max((z[i], i) for i in range(len(z)))\n",
    "        return s[maxi-maxr:maxi+maxr].replace(\"#\",\"\")"
   ]
  },
  {
   "cell_type": "code",
   "execution_count": 20,
   "metadata": {},
   "outputs": [],
   "source": [
    "# https://leetcode.com/problems/zigzag-conversion/\n",
    "class Solution:\n",
    "    def convert(self, s: str, numRows: int) -> str:\n",
    "        r, p, i = [''] *numRows, 1, 0\n",
    "        for a in s:\n",
    "            r[i], p = r[i] + a, p if (0<=i+p<numRows) else -p\n",
    "            i += p\n",
    "        return ''.join(r)"
   ]
  },
  {
   "cell_type": "code",
   "execution_count": 1,
   "metadata": {},
   "outputs": [],
   "source": [
    "# https://leetcode.com/problems/reverse-integer/\n",
    "class Solution:\n",
    "    def reverse(self, x: int) -> int:\n",
    "        a, (sign, x) = 0, (1, x) if x > 0 else (-1, -1*x)\n",
    "        while x: \n",
    "            a, x = a*10 + x%10, x//10\n",
    "        a *= sign\n",
    "        return a if (-2**31<= a <=2**31-1) else 0"
   ]
  },
  {
   "cell_type": "code",
   "execution_count": 7,
   "metadata": {},
   "outputs": [],
   "source": [
    "# https://leetcode.com/problems/string-to-integer-atoi/\n",
    "class Solution:\n",
    "    def myAtoi(self, s: str) -> int:\n",
    "        s, r, i = s.strip(), 0, 0\n",
    "        sign, s = (1 if s[0] == '+' else -1, s[1:]) if s and s[0] in '+-' else (1, s)\n",
    "        while i < len(s) and s[i].isdigit():\n",
    "            r, i = r*10 + (ord(s[i]) - 48), i+1 # '0' : 48\n",
    "        return max(min(r*sign, 2**31-1), -2**31)\n",
    "\n",
    "# regex solution, 4 line\n",
    "import re\n",
    "from functools import reduce\n",
    "class Solution1:\n",
    "    def myAtoi(self, s: str) -> int:\n",
    "        a = re.match(\"\\s*([\\+\\-]?)(\\d+)\\D*\", s)\n",
    "        if not a or len(a.groups()) != 2: return 0\n",
    "        r, sign = reduce(lambda x, y: x*10 + ord(y) - 48, a.groups()[1], 0), -1 if a.groups()[0] == '-' else 1\n",
    "        return max(min(r*sign, 2**31-1), -2**31)"
   ]
  },
  {
   "cell_type": "code",
   "execution_count": 8,
   "metadata": {},
   "outputs": [],
   "source": [
    "# https://leetcode.com/problems/palindrome-number/\n",
    "class Solution:\n",
    "    def isPalindrome(self, x: int) -> bool:\n",
    "        return str(x)[::-1] == str(x)"
   ]
  },
  {
   "cell_type": "code",
   "execution_count": 29,
   "metadata": {},
   "outputs": [],
   "source": [
    "# https://leetcode.com/problems/regular-expression-matching/\n",
    "class Solution:\n",
    "    def isMatch(self, s: str, p: str) -> bool:\n",
    "        m, n, dp = len(s)+1, len(p)+1, [[False]*(len(p)+1) for _ in range(len(s)+1)]\n",
    "        for i in range(n): dp[0][i] = i == 0 if i <=1 else (dp[0][i-2] and p[i-1] == '*')\n",
    "        for i in range(1, m):\n",
    "            for j in range(1, n):\n",
    "                if p[j-1] == '*': dp[i][j] = dp[i][j-2] or (dp[i-1][j] and (s[i-1] == p[j-2] or p[j-2] == '.')) \n",
    "                else: dp[i][j] = dp[i-1][j-1] and (p[j-1] == s[i-1] or p[j-1] == '.')\n",
    "        return dp[-1][-1]"
   ]
  },
  {
   "cell_type": "code",
   "execution_count": 31,
   "metadata": {},
   "outputs": [],
   "source": [
    "# https://leetcode.com/problems/container-with-most-water/\n",
    "class Solution:\n",
    "    def maxArea(self, height: List[int]) -> int:\n",
    "        left, right, s = 0, len(height)-1, 0\n",
    "        while left < right:\n",
    "            s = max(s, min(height[left], height[right])* (right - left))\n",
    "            if height[left] < height[right]: left += 1\n",
    "            else: right -= 1\n",
    "        return s"
   ]
  },
  {
   "cell_type": "code",
   "execution_count": 32,
   "metadata": {},
   "outputs": [],
   "source": [
    "# https://leetcode.com/problems/integer-to-roman/\n",
    "class Solution:\n",
    "    def intToRoman(self, num: int) -> str:\n",
    "        m, l = {1:'I', 4: 'IV', 5:'V', 9: 'IX', 10: 'X', 40: 'XL', 50: 'L', 90: 'XC', 100: 'C', 400: 'CD', 500: 'D', 900: 'CM', 1000: 'M'}, [1, 4, 5, 9, 10, 40, 50, 90, 100, 400, 500, 900, 1000]\n",
    "        k, r = len(l)-1, ''\n",
    "        while k >= 0:\n",
    "            a, num = divmod(num, l[k])\n",
    "            r, k = r + m[l[k]]*a, k - 1\n",
    "        return r"
   ]
  },
  {
   "cell_type": "code",
   "execution_count": 33,
   "metadata": {},
   "outputs": [],
   "source": [
    "# https://leetcode.com/problems/roman-to-integer/\n",
    "class Solution:\n",
    "    def romanToInt(self, s: str) -> int:    \n",
    "        d ={\"I\":1, \"V\":5, \"X\":10, \"L\":50, \"C\":100, \"D\":500, \"M\":1000}\n",
    "        sa, l = 0, 0\n",
    "        for a in s[::-1]:\n",
    "            sa, l = sa + d[a] if d[a] >= l else sa - d[a], d[a]\n",
    "        return sa"
   ]
  },
  {
   "cell_type": "code",
   "execution_count": 34,
   "metadata": {},
   "outputs": [],
   "source": [
    "# https://leetcode.com/problems/longest-common-prefix/\n",
    "class Solution:\n",
    "    def longestCommonPrefix(self, strs: List[str]) -> str:\n",
    "        a, i = '', 0\n",
    "        while all(i < len(s) and s[i] == strs[0][i] for s in strs):\n",
    "            a, i = a + strs[0][i], i+1\n",
    "        return a"
   ]
  },
  {
   "cell_type": "code",
   "execution_count": 37,
   "metadata": {},
   "outputs": [],
   "source": [
    "# https://leetcode.com/problems/3sum/\n",
    "class Solution:\n",
    "    def threeSum(self, nums: List[int]) -> List[List[int]]:\n",
    "        # based on two sum\n",
    "        r, nums = set(), sorted(nums)\n",
    "        for i, a in enumerate(nums):\n",
    "            d = set()\n",
    "            for b in nums[i+1:]:\n",
    "                if -a - b in d: r.add((a, -a-b, b)) \n",
    "                else: d.add(b)\n",
    "        return list(r)\n",
    "\n",
    "# just simple modification to 5line code\n",
    "class Solution1:\n",
    "    def threeSum(self, nums: List[int]) -> List[List[int]]:\n",
    "        # based on two sum\n",
    "        r, nums = set(), sorted(nums)\n",
    "        for i, a in enumerate(nums):\n",
    "            d = set()\n",
    "            _ = [r.add((a, -a-b, b)) if -a-b in d else d.add(b) for b in nums[i+1:]]\n",
    "        return list(r)"
   ]
  },
  {
   "cell_type": "code",
   "execution_count": 38,
   "metadata": {},
   "outputs": [],
   "source": [
    "# https://leetcode.com/problems/3sum-closest/\n",
    "class Solution:\n",
    "    def threeSumClosest(self, nums: List[int], target: int) -> int:\n",
    "        nums, s, ret = sorted(nums), float(\"inf\"), None \n",
    "        for i, a in enumerate(nums):\n",
    "            l, r = i+1, len(nums) - 1\n",
    "            while l < r:\n",
    "                if abs(nums[l] + nums[r] + a - target) < s: ret, s = nums[l] + nums[r] + a, abs(nums[l] + nums[r] + a - target)\n",
    "                l, r = (l+1, r) if nums[l] + nums[r] + a < target else (l, r-1)\n",
    "        return ret"
   ]
  },
  {
   "cell_type": "code",
   "execution_count": 1,
   "metadata": {},
   "outputs": [],
   "source": [
    "# https://leetcode.com/problems/letter-combinations-of-a-phone-number/\n",
    "import itertools\n",
    "class Solution:\n",
    "    def letterCombinations(self, digits):\n",
    "        if not digits:return []\n",
    "        d = {\"2\":\"abc\", \"3\":\"def\", \"4\":\"ghi\", \"5\":\"jkl\", \"6\":\"mno\", \"7\":\"pqrs\", \"8\":\"tuv\", \"9\":\"wxyz\"}\n",
    "        return [\"\".join(b) for b in itertools.product(*[d[a] for a in digits])]"
   ]
  },
  {
   "cell_type": "code",
   "execution_count": 4,
   "metadata": {},
   "outputs": [],
   "source": [
    "# https://leetcode.com/problems/4sum/\n",
    "class Solution:        \n",
    "    def fourSum(self, nums: List[int], target: int) -> List[List[int]]:\n",
    "        # based on twoSum\n",
    "        n, nums, r = len(nums), sorted(nums), set()\n",
    "        for i in range(n):\n",
    "            for j in range(i+1, n):\n",
    "                r |= set(tuple([nums[i], nums[j]] + a) for a in self.twoSum(nums[j+1:], target - nums[i] - nums[j]))\n",
    "        return [list(a) for a in r]\n",
    "    \n",
    "    def twoSum(self, nums, target):\n",
    "            d, ret = set(), set()\n",
    "            for a in nums:\n",
    "                if target -a in d: ret.add((target - a, a))\n",
    "                d.add(a)\n",
    "            return [list(a) for a in ret]"
   ]
  },
  {
   "cell_type": "code",
   "execution_count": 7,
   "metadata": {},
   "outputs": [],
   "source": [
    "# https://leetcode.com/problems/remove-nth-node-from-end-of-list/\n",
    "class Solution:\n",
    "    def removeNthFromEnd(self, head: Optional[ListNode], n: int) -> Optional[ListNode]:\n",
    "        fast = slow = dummy = ListNode(0, head)\n",
    "        for i in range(n+1): fast = fast.next\n",
    "        while fast: fast, slow = fast.next, slow.next\n",
    "        slow.next = slow.next.next\n",
    "        return dummy.next"
   ]
  },
  {
   "cell_type": "code",
   "execution_count": 8,
   "metadata": {},
   "outputs": [],
   "source": [
    "# https://leetcode.com/problems/valid-parentheses/\n",
    "class Solution:\n",
    "    m = {'(': ')', '{':'}', '[': ']'}\n",
    "    def isValid(self, s: str) -> bool:\n",
    "        q = []\n",
    "        for a in s:\n",
    "            if a in self.m: q.append(a)\n",
    "            elif q and self.m[q[-1]] == a: q.pop(-1)\n",
    "            else: return False\n",
    "        return len(q) == 0"
   ]
  },
  {
   "cell_type": "code",
   "execution_count": null,
   "metadata": {},
   "outputs": [],
   "source": []
  }
 ],
 "metadata": {
  "interpreter": {
   "hash": "376d9237ede9442d972b968135a4eef881e54875bb30b95a617238950d262340"
  },
  "kernelspec": {
   "display_name": "Python 3.9.9 ('base')",
   "language": "python",
   "name": "python3"
  },
  "language_info": {
   "codemirror_mode": {
    "name": "ipython",
    "version": 3
   },
   "file_extension": ".py",
   "mimetype": "text/x-python",
   "name": "python",
   "nbconvert_exporter": "python",
   "pygments_lexer": "ipython3",
   "version": "3.9.9"
  },
  "orig_nbformat": 4
 },
 "nbformat": 4,
 "nbformat_minor": 2
}
