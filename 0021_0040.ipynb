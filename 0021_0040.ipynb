{
 "cells": [
  {
   "cell_type": "code",
   "execution_count": 2,
   "metadata": {},
   "outputs": [],
   "source": [
    "# prepare\n",
    "from typing import Optional\n",
    "from typing import List\n",
    "class ListNode:\n",
    "    def __init__(self, val=0, next=None):\n",
    "        self.val = val\n",
    "        self.next = next"
   ]
  },
  {
   "cell_type": "code",
   "execution_count": 3,
   "metadata": {},
   "outputs": [],
   "source": [
    "# 21. https://leetcode.com/problems/merge-two-sorted-lists/\n",
    "class Solution:\n",
    "    def mergeTwoLists(self, list1: Optional[ListNode], list2: Optional[ListNode]) -> Optional[ListNode]:\n",
    "        dummy = head = ListNode()\n",
    "        while list1 or list2:\n",
    "            head.next, list1, list2 = (ListNode(list1.val), list1.next, list2) if (not list2 or (list1 and list1.val < list2.val)) else (ListNode(list2.val), list1, list2.next)\n",
    "            head = head.next\n",
    "        return dummy.next\n",
    "        "
   ]
  },
  {
   "cell_type": "code",
   "execution_count": 4,
   "metadata": {},
   "outputs": [],
   "source": [
    "# 22. https://leetcode.com/problems/generate-parentheses/\n",
    "class Solution:\n",
    "    def generateParenthesis(self, n: int) -> List[str]:\n",
    "        def generate(k, n, s):\n",
    "            if n == 0: return [s + ')' * k]\n",
    "            if k == 0: return generate(k+1, n-1, s + '(')\n",
    "            return generate(k-1, n, s + ')') + generate(k+1, n-1, s + '(')\n",
    "        return generate(0, n, '')"
   ]
  },
  {
   "cell_type": "code",
   "execution_count": 5,
   "metadata": {},
   "outputs": [],
   "source": [
    "# 23. https://leetcode.com/problems/merge-k-sorted-lists/\n",
    "import heapq\n",
    "class Solution:\n",
    "    ListNode.__lt__ = lambda self, other: self.val < other.val\n",
    "    def mergeKLists(self, lists: List[Optional[ListNode]]) -> Optional[ListNode]:\n",
    "        dummy = head = ListNode(0)\n",
    "        q = [(head) for head in lists if head]; heapq.heapify(q)\n",
    "        while q:\n",
    "            # notice: a = b = c <==> a = c; b = c; a, b = c, d <==> a = c; b = d and right-side is evaluated first\n",
    "            head.next = head = node = heapq.heappop(q)\n",
    "            if node.next: heapq.heappush(q, node.next)\n",
    "        return dummy.next"
   ]
  },
  {
   "cell_type": "code",
   "execution_count": null,
   "metadata": {},
   "outputs": [],
   "source": [
    "# 24. https://leetcode.com/problems/swap-nodes-in-pairs/\n",
    "class Solution:\n",
    "    def swapPairs(self, head: Optional[ListNode]) -> Optional[ListNode]:\n",
    "        dummy = prev = ListNode(0, head)\n",
    "        while prev.next and prev.next.next:\n",
    "            fast, slow = prev.next.next, prev.next\n",
    "            prev.next, slow.next, fast.next, prev = fast, fast.next, slow, slow\n",
    "        return dummy.next"
   ]
  },
  {
   "cell_type": "code",
   "execution_count": 6,
   "metadata": {},
   "outputs": [],
   "source": [
    "# 25. https://leetcode.com/problems/reverse-nodes-in-k-group/\n",
    "class Solution:\n",
    "    def reverseKGroup(self, head: Optional[ListNode], k: int) -> Optional[ListNode]:\n",
    "        count, d = k, head\n",
    "        while count and d: count, d = count - 1, d.next\n",
    "        if count: return head \n",
    "        cur = self.reverseKGroup(d, k)\n",
    "        while k: head.next, head, cur, k = cur, head.next, head, k - 1\n",
    "        return cur"
   ]
  },
  {
   "cell_type": "code",
   "execution_count": 20,
   "metadata": {},
   "outputs": [],
   "source": [
    "# 26. https://leetcode.com/problems/remove-duplicates-from-sorted-array/\n",
    "class Solution:\n",
    "    def removeDuplicates(self, nums: List[int]) -> int:\n",
    "        k = 0\n",
    "        for a in nums[1:]:\n",
    "            if nums[k] != a: nums[k+1], k = a, k+ 1\n",
    "        return k+1"
   ]
  },
  {
   "cell_type": "code",
   "execution_count": 1,
   "metadata": {},
   "outputs": [],
   "source": [
    "# 27. https://leetcode.com/problems/remove-element/\n",
    "class Solution:\n",
    "    def removeElement(self, nums: List[int], val: int) -> int:\n",
    "        k = 0\n",
    "        for a in nums:\n",
    "            if a != val: nums[k], k = a, k + 1\n",
    "        return k\n",
    "        "
   ]
  },
  {
   "cell_type": "code",
   "execution_count": 7,
   "metadata": {},
   "outputs": [],
   "source": [
    "# 28: https://leetcode.com/problems/implement-strstr/\n",
    "class Solution:\n",
    "    def strStr(self, haystack: str, needle: str) -> int:\n",
    "        return haystack.find(needle)\n",
    "\n",
    "# kmp \n",
    "class Solution1:\n",
    "    def strStr(self, haystack, needle):\n",
    "        \"\"\"\n",
    "        :type haystack: str\n",
    "        :type needle: str\n",
    "        :rtype: int\n",
    "        \"\"\"\n",
    "        def getNext(a):\n",
    "            nextTable = [0] * (len(a) + 1)\n",
    "            nextTable[0], i, j = -1, 0, -1\n",
    "            while i < len(a):\n",
    "                if j == -1 or a[i] == a[j]:\n",
    "                    i, j = i+1, j+1\n",
    "                    nextTable[i] = j\n",
    "                else:\n",
    "                    j = nextTable[j]\n",
    "            return nextTable\n",
    "        \n",
    "        if not needle: return 0\n",
    "        \n",
    "        nextTable, i, j, n = getNext(needle), 0, 0, len(needle)\n",
    "        while i < len(haystack) and j < n:\n",
    "            if j == -1 or haystack[i] == needle[j]:\n",
    "                i, j = i+1, j+1\n",
    "            else:\n",
    "                j = nextTable[j]\n",
    "        return (i - j) if j == n else -1"
   ]
  },
  {
   "cell_type": "code",
   "execution_count": 8,
   "metadata": {},
   "outputs": [],
   "source": [
    "# 29. https://leetcode.com/problems/divide-two-integers/\n",
    "class Solution:\n",
    "    def divide(self, dividend: int, divisor: int) -> int:\n",
    "        # how many divisors dividend has \n",
    "        if dividend == - (1<<31) and divisor == -1: return (1<<31)-1\n",
    "        a, b, r = abs(dividend), abs(divisor), 0 \n",
    "        for i in reversed(range(32)):\n",
    "            if a >= b<<i:\n",
    "                r, a = r + (1<<i), a - (b<<i)\n",
    "        return r if (dividend > 0) == (divisor > 0) else -r\n"
   ]
  },
  {
   "cell_type": "code",
   "execution_count": 29,
   "metadata": {},
   "outputs": [],
   "source": [
    "# 30. https://leetcode.com/problems/substring-with-concatenation-of-all-words/\n",
    "# todo\n",
    "class Solution:\n",
    "    def findSubstring(self, s: str, words: List[str]) -> List[int]:\n",
    "        pass"
   ]
  },
  {
   "cell_type": "code",
   "execution_count": 31,
   "metadata": {},
   "outputs": [],
   "source": [
    "# 31. https://leetcode.com/problems/next-permutation/\n",
    "class Solution:\n",
    "    def nextPermutation(self, nums: List[int]) -> None:\n",
    "        # k is largest index satisfy: nums[k] < nums[k+1]\n",
    "        # l is largest index satisfy: nums[k] < nums[k]\n",
    "        k, l, n = -1, -1, len(nums)\n",
    "        for i in range(n-1):\n",
    "            if nums[i] < nums[i+1]: k = i\n",
    "            if k != -1 and nums[i+1] > nums[k]: l = i + 1\n",
    "        if k != -1: nums[k], nums[l] = nums[l], nums[k]\n",
    "        nums[k+1:] = nums[k+1:][::-1]"
   ]
  },
  {
   "cell_type": "code",
   "execution_count": 32,
   "metadata": {},
   "outputs": [],
   "source": [
    "# 32. https://leetcode.com/problems/longest-valid-parentheses/\n",
    "class Solution:\n",
    "    def longestValidParentheses(self, s: str) -> int:\n",
    "        q, r = [(-1, '')], 0\n",
    "        for i, a in enumerate(s):\n",
    "            if a == ')' and q and q[-1][1] == '(': \n",
    "                q.pop(); r = max(r, i - q[-1][0])\n",
    "            else: q.append((i, a))\n",
    "        return r"
   ]
  },
  {
   "cell_type": "code",
   "execution_count": 33,
   "metadata": {},
   "outputs": [],
   "source": [
    "# 33. https://leetcode.com/problems/search-in-rotated-sorted-array/\n",
    "class Solution:\n",
    "    def search(self, nums: List[int], target: int) -> int:\n",
    "        l, r = 0, len(nums) - 1\n",
    "        while l <= r:\n",
    "            mid, midv = (l + r)//2, nums[(l + r)//2]\n",
    "            if midv == target: return mid\n",
    "            # if target and nums[mid] is/not on one side, then compare midv and target\n",
    "            oneside = (target >= nums[0]) == (midv >= nums[0])\n",
    "            l, r = (l, mid - 1) if oneside == (target < midv) else (mid + 1, r)\n",
    "        return -1"
   ]
  },
  {
   "cell_type": "code",
   "execution_count": 13,
   "metadata": {},
   "outputs": [],
   "source": [
    "# 34. https://leetcode.com/problems/find-first-and-last-position-of-element-in-sorted-array/\n",
    "import bisect\n",
    "class Solution:\n",
    "    def searchRange(self, nums: List[int], target: int) -> List[int]:\n",
    "        lo = bisect.bisect_left(nums, target)\n",
    "        return [lo, bisect.bisect_right(nums, target)-1] if target in nums[lo:lo+1] else [-1, -1]\n",
    "\n",
    "\n",
    "# more: implement bisect_left and bisect_right \n",
    "def bisect_left(nums, target):\n",
    "    l, r = 0, len(nums)\n",
    "    while l < r:\n",
    "        mid = (l + r)//2\n",
    "        if nums[mid] < target:\n",
    "            l = mid + 1\n",
    "        else:\n",
    "            r = mid \n",
    "    return l\n",
    "\n",
    "def bisect_right(nums, target):\n",
    "    l, r = 0, len(nums)\n",
    "    while l < r:\n",
    "        mid = (l + r)//2\n",
    "        if nums[mid] <= target:\n",
    "            l = mid + 1\n",
    "        else:\n",
    "            r = mid\n",
    "    return l"
   ]
  },
  {
   "cell_type": "code",
   "execution_count": 37,
   "metadata": {},
   "outputs": [],
   "source": [
    "# 35. https://leetcode.com/problems/search-insert-position/\n",
    "import bisect\n",
    "class Solution:\n",
    "    def searchInsert(self, nums: List[int], target: int) -> int:\n",
    "        return bisect.bisect_left(nums, target)"
   ]
  },
  {
   "cell_type": "code",
   "execution_count": 38,
   "metadata": {},
   "outputs": [],
   "source": [
    "# 36. https://leetcode.com/problems/valid-sudoku/\n",
    "class Solution:\n",
    "    def isValidSudoku(self, board: List[List[str]]) -> bool:\n",
    "        seen = set()\n",
    "        return not any([x in seen or seen.add(x) \n",
    "                        for i, row in enumerate(board) \n",
    "                        for j, c in enumerate(row) if c != '.' \n",
    "                        for x in ((i, c), (c, j), (i//3, j//3, c))\n",
    "                        ])\n",
    "        \n",
    "# more readable:\n",
    "class Solution1:\n",
    "    def isValidSudoku(self, board: List[List[str]]) -> bool:\n",
    "        seen = set()\n",
    "        for i in range(9):\n",
    "            for j in range(9):\n",
    "                if board[i][j] != '.':\n",
    "                    for x in ((i, board[i][j]), (board[i][j], j), (i//3, j//3, board[i][j])):\n",
    "                        if x in seen:\n",
    "                            return False\n",
    "                        seen.add(x)\n",
    "        return True\n",
    "        "
   ]
  },
  {
   "cell_type": "code",
   "execution_count": 1,
   "metadata": {},
   "outputs": [],
   "source": [
    "# 37. https://leetcode.com/problems/sudoku-solver/\n",
    "class Solution:\n",
    "    def solveSudoku(self, board: List[List[str]]) -> None:\n",
    "        v = set('123456789')\n",
    "        def helper(index):\n",
    "            i, j = divmod(index, 9)\n",
    "            if index >= 81: return True\n",
    "            if board[i][j] != '.': return helper(index+1)\n",
    "            used = {board[i][k] for k in range(9)} | {board[k][j] for k in range(9)} | {board[(i//3)*3+x][(j//3)*3+y] for x in range(3) for y in range(3)}\n",
    "            for a in v - used:\n",
    "                board[i][j] = a\n",
    "                if helper(index+1): return True\n",
    "                board[i][j] = '.'\n",
    "            return False\n",
    "        helper(0)"
   ]
  },
  {
   "cell_type": "code",
   "execution_count": 4,
   "metadata": {},
   "outputs": [],
   "source": [
    "# 38. https://leetcode.com/problems/count-and-say/\n",
    "class Solution:\n",
    "    def countAndSay(self, n: int) -> str:\n",
    "        a = 1\n",
    "        for i in range(n - 1):\n",
    "            cur, curCount, res = \"\", 0, \"\"\n",
    "            for s in str(a):\n",
    "                if cur != s: res, cur, curCount = res + str(curCount) + cur if curCount != 0 else res, s, 1\n",
    "                else: curCount += 1\n",
    "            a = int(res + str(curCount) + cur if curCount != 0 else res)\n",
    "        return str(a)\n",
    "        "
   ]
  },
  {
   "cell_type": "code",
   "execution_count": 7,
   "metadata": {},
   "outputs": [],
   "source": [
    "# 39. https://leetcode.com/problems/combination-sum/\n",
    "class Solution:\n",
    "    def combinationSum(self, candidates: List[int], target: int) -> List[List[int]]:\n",
    "        candidates, r = sorted(candidates), []\n",
    "        def dfs(c, target, l=[]):\n",
    "            if target == 0:  r.append(l) \n",
    "            else: [dfs(c[i:], target-a, l+[a]) for i, a in enumerate(c) if a <= target]\n",
    "        dfs(candidates, target)\n",
    "        return r"
   ]
  },
  {
   "cell_type": "code",
   "execution_count": 8,
   "metadata": {},
   "outputs": [],
   "source": [
    "# 40. https://leetcode.com/problems/combination-sum-ii/\n",
    "# use dp, dp[i]: target = i\n",
    "import collections\n",
    "class Solution:\n",
    "    def combinationSum2(self, candidates: 'List[int]', target: 'int') -> 'List[List[int]]':\n",
    "        candidates, d = sorted(candidates), collections.defaultdict(set)\n",
    "        for i in candidates:\n",
    "            for j in range(target-i, 0, -1): d[j+i] |= {a + (i, ) for a in d[j]}\n",
    "            d[i] |= {(i, )}\n",
    "        return [list(a) for a in d[target]]\n",
    "\n",
    "# dfs and backtrack\n",
    "class Solution1:\n",
    "    def combinationSum2(self, candidates: List[int], target: int) -> List[List[int]]:\n",
    "        c, keys, r = collections.Counter(candidates), sorted(list(set(candidates))), []\n",
    "        def dfs(c, keys, target, l=[]):\n",
    "            if target == 0:  r.append(l) \n",
    "            else: \n",
    "                for i, a in enumerate(keys):\n",
    "                    if a <= target and c[a] > 0:\n",
    "                        c[a] -= 1\n",
    "                        dfs(c, keys[i:], target-a, l+[a])\n",
    "                        c[a] += 1\n",
    "        dfs(c, keys, target)\n",
    "        return r"
   ]
  },
  {
   "cell_type": "code",
   "execution_count": null,
   "metadata": {},
   "outputs": [],
   "source": []
  }
 ],
 "metadata": {
  "interpreter": {
   "hash": "376d9237ede9442d972b968135a4eef881e54875bb30b95a617238950d262340"
  },
  "kernelspec": {
   "display_name": "Python 3.9.9 ('base')",
   "language": "python",
   "name": "python3"
  },
  "language_info": {
   "codemirror_mode": {
    "name": "ipython",
    "version": 3
   },
   "file_extension": ".py",
   "mimetype": "text/x-python",
   "name": "python",
   "nbconvert_exporter": "python",
   "pygments_lexer": "ipython3",
   "version": "3.9.9"
  },
  "orig_nbformat": 4
 },
 "nbformat": 4,
 "nbformat_minor": 2
}
