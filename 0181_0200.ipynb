{
 "cells": [
  {
   "cell_type": "code",
   "execution_count": 1,
   "metadata": {},
   "outputs": [],
   "source": [
    "# prepare\n",
    "from typing import Optional\n",
    "from typing import List\n",
    "class ListNode:\n",
    "    def __init__(self, val=0, next=None):\n",
    "        self.val = val\n",
    "        self.next = next\n",
    "\n",
    "class TreeNode:\n",
    "    def __init__(self, val=0, left=None, right=None):\n",
    "        self.val = val\n",
    "        self.left = left\n",
    "        self.right = right\n",
    "\n",
    "class Node:\n",
    "    def __init__(self, val: int = 0, left: 'Node' = None, right: 'Node' = None, next: 'Node' = None):\n",
    "        self.val = val\n",
    "        self.left = left\n",
    "        self.right = right\n",
    "        self.next = next"
   ]
  },
  {
   "cell_type": "code",
   "execution_count": 3,
   "metadata": {},
   "outputs": [],
   "source": [
    "# 181~186.\n",
    "# todo"
   ]
  },
  {
   "cell_type": "code",
   "execution_count": 4,
   "metadata": {},
   "outputs": [],
   "source": [
    "# 187. https://leetcode.com/problems/repeated-dna-sequences/\n",
    "import collections\n",
    "class Solution:\n",
    "    def findRepeatedDnaSequences(self, s: str) -> List[str]:\n",
    "        d = collections.Counter()\n",
    "        for i in range(10, len(s)+1):\n",
    "            d[s[i-10:i]] += 1\n",
    "        return [a for a in d if d[a] > 1]"
   ]
  },
  {
   "cell_type": "code",
   "execution_count": null,
   "metadata": {},
   "outputs": [],
   "source": [
    "# 188. https://leetcode.com/problems/best-time-to-buy-and-sell-stock-iv/\n",
    "class Solution:\n",
    "    def maxProfit(self, k: int, prices: List[int]) -> int:\n",
    "        # s[i][j] = max(s[i-1][j], b[i][j] + prices[i])\n",
    "        # b[i][j] = max(b[i-1][j], s[i-1][j-1] - prices[i])\n",
    "        if not prices: return 0\n",
    "        b, s = [float('-inf')]*(k+1), [float('-inf')]*(k+1); s[0] = 0\n",
    "        for a in prices:\n",
    "            for j in range(1, k+1):\n",
    "                b[j] = max(b[j], s[j-1] - a)\n",
    "                s[j] = max(s[j], b[j] + a)\n",
    "        return s[-1]"
   ]
  },
  {
   "cell_type": "code",
   "execution_count": null,
   "metadata": {},
   "outputs": [],
   "source": [
    "# 189. https://leetcode.com/problems/rotate-array/\n",
    "class Solution:\n",
    "    def rotate(self, nums: List[int], k: int) -> None:\n",
    "        \"\"\"\n",
    "        Do not return anything, modify nums in-place instead.\n",
    "        \"\"\"\n",
    "        k = k%(len(nums))\n",
    "        nums[:] = nums[-k:] + nums[:-k]"
   ]
  },
  {
   "cell_type": "code",
   "execution_count": null,
   "metadata": {},
   "outputs": [],
   "source": [
    "# 190. https://leetcode.com/problems/reverse-bits/\n",
    "class Solution:\n",
    "    def reverseBits(self, n: int) -> int:\n",
    "        return int('{0:032b}'.format(n)[::-1], 2)"
   ]
  },
  {
   "cell_type": "code",
   "execution_count": null,
   "metadata": {},
   "outputs": [],
   "source": [
    "# 191. https://leetcode.com/problems/number-of-1-bits/\n",
    "class Solution:\n",
    "    def hammingWeight(self, n: int) -> int:\n",
    "        return sum(1 for i in range(32) if n & (1 << i)) "
   ]
  },
  {
   "cell_type": "code",
   "execution_count": null,
   "metadata": {},
   "outputs": [],
   "source": [
    "# 192. https://leetcode.com/problems/word-frequency/\n",
    "# cat words.txt| tr -s ' ' '\\n' | sort | uniq -c | sort -r | awk '{print $2, $1}'"
   ]
  },
  {
   "cell_type": "code",
   "execution_count": null,
   "metadata": {},
   "outputs": [],
   "source": [
    "# 193. https://leetcode.com/problems/valid-phone-numbers/\n",
    "# cat file.txt | grep -P '^(\\d{3}-|\\(\\d{3}\\) )\\d{3}-\\d{4}$'"
   ]
  },
  {
   "cell_type": "code",
   "execution_count": null,
   "metadata": {},
   "outputs": [],
   "source": [
    "# 194. https://leetcode.com/problems/transpose-file/\n",
    "# \n",
    "# COLS=`head -1 file.txt | wc -w`\n",
    "# for (( i = 1; i <= $COLS; i++ )); do\n",
    "#     awk -v col=$i '{print $col}' file.txt | xargs\n",
    "# done\n"
   ]
  },
  {
   "cell_type": "code",
   "execution_count": null,
   "metadata": {},
   "outputs": [],
   "source": [
    "# 195. https://leetcode.com/problems/tenth-line/\n",
    "# sed -n '10p' file.txt"
   ]
  },
  {
   "cell_type": "code",
   "execution_count": null,
   "metadata": {},
   "outputs": [],
   "source": [
    "# 196-197 todo"
   ]
  },
  {
   "cell_type": "code",
   "execution_count": null,
   "metadata": {},
   "outputs": [],
   "source": [
    "# 198. https://leetcode.com/problems/house-robber/\n",
    "class Solution:\n",
    "    def rob(self, nums: List[int]) -> int:\n",
    "        d = [0] * (len(nums) + 2)\n",
    "        for i in range(len(nums)):\n",
    "            d[i+2] = max(d[i+1], d[i] + nums[i])\n",
    "        return d[-1]"
   ]
  },
  {
   "cell_type": "code",
   "execution_count": null,
   "metadata": {},
   "outputs": [],
   "source": [
    "# 199. https://leetcode.com/problems/binary-tree-right-side-view/\n",
    "class Solution:\n",
    "    def rightSideView(self, root: Optional[TreeNode]) -> List[int]:\n",
    "        q, r = [root] if root else [], []\n",
    "        while q:\n",
    "            r.append(q[-1].val)\n",
    "            q = [a for b in q for a in (b.left, b.right) if a]\n",
    "        return r"
   ]
  },
  {
   "cell_type": "code",
   "execution_count": null,
   "metadata": {},
   "outputs": [],
   "source": [
    "# 200. https://leetcode.com/problems/number-of-islands/\n",
    "class Solution:\n",
    "    def numIslands(self, grid: List[List[str]]) -> int:\n",
    "        # dfs\n",
    "        seen, m, n = set(), len(grid), len(grid[0])\n",
    "        def dfs(i, j):\n",
    "            if 0 <=i <m and 0<=j <n and grid[i][j] == '1' and (i, j) not in seen:\n",
    "                seen.add((i, j)); [dfs(m, n) for m,n in [(i-1,j), (i+1,j), (i,j-1), (i,j+1)]]\n",
    "                return 1\n",
    "            return 0\n",
    "        return sum(dfs(i, j) for i in range(m) for j in range(n))"
   ]
  }
 ],
 "metadata": {
  "interpreter": {
   "hash": "376d9237ede9442d972b968135a4eef881e54875bb30b95a617238950d262340"
  },
  "kernelspec": {
   "display_name": "Python 3.9.9 ('base')",
   "language": "python",
   "name": "python3"
  },
  "language_info": {
   "codemirror_mode": {
    "name": "ipython",
    "version": 3
   },
   "file_extension": ".py",
   "mimetype": "text/x-python",
   "name": "python",
   "nbconvert_exporter": "python",
   "pygments_lexer": "ipython3",
   "version": "3.9.9"
  },
  "orig_nbformat": 4
 },
 "nbformat": 4,
 "nbformat_minor": 2
}
