{
 "cells": [
  {
   "cell_type": "code",
   "execution_count": 1,
   "metadata": {},
   "outputs": [],
   "source": [
    "# prepare\n",
    "from typing import Optional\n",
    "from typing import List\n",
    "class ListNode:\n",
    "    def __init__(self, val=0, next=None):\n",
    "        self.val = val\n",
    "        self.next = next\n",
    "\n",
    "class TreeNode:\n",
    "    def __init__(self, val=0, left=None, right=None):\n",
    "        self.val = val\n",
    "        self.left = left\n",
    "        self.right = right"
   ]
  },
  {
   "cell_type": "code",
   "execution_count": 3,
   "metadata": {},
   "outputs": [],
   "source": [
    "# 81. https://leetcode.com/problems/search-in-rotated-sorted-array-ii/\n",
    "class Solution:\n",
    "    def search(self, nums: List[int], target: int) -> bool:\n",
    "        # todo: \n",
    "        pass\n",
    "        "
   ]
  },
  {
   "cell_type": "code",
   "execution_count": 4,
   "metadata": {},
   "outputs": [],
   "source": [
    "# 82. https://leetcode.com/problems/remove-duplicates-from-sorted-list-ii/\n",
    "class Solution:\n",
    "    def deleteDuplicates(self, head: ListNode) -> ListNode:\n",
    "        d = prev = ListNode(0, head)\n",
    "        while head:\n",
    "            while head.next and head.next.val == head.val: head = head.next\n",
    "            if prev.next != head: prev.next, head = head.next, head.next\n",
    "            else: prev, head = head, head.next\n",
    "        return d.next\n"
   ]
  },
  {
   "cell_type": "code",
   "execution_count": 5,
   "metadata": {},
   "outputs": [],
   "source": [
    "# 83. https://leetcode.com/problems/remove-duplicates-from-sorted-list//\n",
    "class Solution:\n",
    "    def deleteDuplicates(self, head: ListNode) -> ListNode:\n",
    "        d = prev = ListNode(0, head)\n",
    "        while head:\n",
    "            while head.next and head.next.val == head.val: head = head.next\n",
    "            prev.next, head, prev = head, head.next, head\n",
    "        return d.next"
   ]
  },
  {
   "cell_type": "code",
   "execution_count": null,
   "metadata": {},
   "outputs": [],
   "source": [
    "# 84. https://leetcode.com/problems/largest-rectangle-in-histogram/\n",
    "class Solution:\n",
    "    def largestRectangleArea(self, heights: List[int]) -> int:\n",
    "        q, r = [], 0\n",
    "        for i, a in enumerate(heights+[0]):\n",
    "            while q and heights[q[-1]] > a:\n",
    "                h = q.pop()\n",
    "                r = max(r, (i-(q[-1] if q else -1)-1) * heights[h])\n",
    "            q.append(i)\n",
    "        return r"
   ]
  },
  {
   "cell_type": "code",
   "execution_count": 6,
   "metadata": {},
   "outputs": [],
   "source": [
    "# 85. https://leetcode.com/problems/maximal-rectangle/\n",
    "class Solution:\n",
    "    def maximalRectangle(self, matrix: List[List[str]]) -> int:\n",
    "        # todo\n",
    "        pass"
   ]
  },
  {
   "cell_type": "code",
   "execution_count": 20,
   "metadata": {},
   "outputs": [],
   "source": [
    "# 86. https://leetcode.com/problems/partition-list/\n",
    "class Solution:\n",
    "    def partition(self, head: ListNode, x: int) -> ListNode:\n",
    "        d1 = prev1 = ListNode(0, None); d2 = prev2 = ListNode(0, None)\n",
    "        while head:\n",
    "            if head.val >= x: prev2.next, prev2, head = head, head, head.next\n",
    "            else: prev1.next, prev1, head = head, head, head.next\n",
    "        prev1.next, prev2.next = d2.next, None\n",
    "        return d1.next "
   ]
  },
  {
   "cell_type": "code",
   "execution_count": 1,
   "metadata": {},
   "outputs": [],
   "source": [
    "# 87. https://leetcode.com/problems/scramble-string/\n",
    "class Solution:\n",
    "    def isScramble(self, s1: str, s2: str) -> bool:\n",
    "        # todo\n",
    "        pass"
   ]
  },
  {
   "cell_type": "code",
   "execution_count": 7,
   "metadata": {},
   "outputs": [],
   "source": [
    "# 88: https://leetcode.com/problems/merge-sorted-array/\n",
    "class Solution:\n",
    "    def merge(self, nums1: List[int], m: int, nums2: List[int], n: int) -> None:\n",
    "        a, b = m-1, n-1\n",
    "        for i in reversed(range(m+n)):\n",
    "            if a <0 or (b>=0 and nums2[b] > nums1[a]): nums1[i], b = nums2[b], b - 1\n",
    "            else: nums1[i], a = nums1[a], a - 1"
   ]
  },
  {
   "cell_type": "code",
   "execution_count": 3,
   "metadata": {},
   "outputs": [],
   "source": [
    "# 89. https://leetcode.com/problems/gray-code/\n",
    "class Solution:\n",
    "    def grayCode(self, n: int) -> List[int]:\n",
    "        # todo: \n",
    "        pass"
   ]
  },
  {
   "cell_type": "code",
   "execution_count": 29,
   "metadata": {},
   "outputs": [],
   "source": [
    "# 90. https://leetcode.com/problems/subsets-ii/\n",
    "class Solution:\n",
    "    def subsetsWithDup(self, nums: List[int]) -> List[List[int]]:\n",
    "        c = collections.Counter(nums); l, nums = len(c), list(c.keys())\n",
    "        def helper(i):\n",
    "            if i >= l: return [[]]\n",
    "            return [b+[nums[i]]*k for k in range(c[nums[i]]+1) for b in helper(i+1)]\n",
    "        return helper(0)\n"
   ]
  },
  {
   "cell_type": "code",
   "execution_count": 31,
   "metadata": {},
   "outputs": [],
   "source": [
    "# 91. https://leetcode.com/problems/simplify-path/\n",
    "class Solution:\n",
    "    def numDecodings(self, s: str) -> int:\n",
    "        d1, d2 = 1, 1\n",
    "        for i in range(len(s)):\n",
    "            d1, d2 = d1 * (s[i] > '0') + d2*(i>=1 and '10' <= s[i-1:i+1] <= '26'), d1\n",
    "        return d1"
   ]
  },
  {
   "cell_type": "code",
   "execution_count": 32,
   "metadata": {},
   "outputs": [],
   "source": [
    "# 92. https://leetcode.com/problems/reverse-linked-list-ii/\n",
    "class Solution:\n",
    "    def reverseBetween(self, head: ListNode, left: int, right: int) -> ListNode:\n",
    "        prev = d = ListNode(0, head); p1, p2, i = None, None, 1 \n",
    "        while head and i <= right:\n",
    "            p1, p2 = (prev, head) if (i >= left and not p1) else (p1, p2)\n",
    "            prev, head.next, head, i = head, prev if p1 else head.next, head.next, i+1\n",
    "        p1.next, p2.next = prev if p1 else p1.next, head if p2 else p2. next\n",
    "        return d.next"
   ]
  },
  {
   "cell_type": "code",
   "execution_count": 33,
   "metadata": {},
   "outputs": [],
   "source": [
    "# 93. https://leetcode.com/problems/restore-ip-addresses/\n",
    "class Solution:\n",
    "    def restoreIpAddresses(self, s: str) -> List[str]:\n",
    "        ret, n = [], len(s)\n",
    "        def dfs(i, l):\n",
    "            if i >=n and len(l) == 4: ret.append(l)\n",
    "            if len(l) == 4: return \n",
    "            for j in range(i, min(i+3, n)):\n",
    "                if str(int(s[i:j+1])) == s[i:j+1] and int(s[i:j+1]) <= 255:\n",
    "                    dfs(j+1, l+[s[i:j+1]])\n",
    "        dfs(0, [])\n",
    "        return ['.'.join(a) for a in ret]"
   ]
  },
  {
   "cell_type": "code",
   "execution_count": 13,
   "metadata": {},
   "outputs": [],
   "source": [
    "# 94. https://leetcode.com/problems/binary-tree-inorder-traversal/\n",
    "class Solution:\n",
    "    def inorderTraversal(self, root: Optional[TreeNode]) -> List[int]:\n",
    "        ret, q = [], []\n",
    "        while q or root:\n",
    "            if root:\n",
    "                q.append(root); root = root.left\n",
    "            else:\n",
    "                root = q.pop()\n",
    "                ret.append(root.val); root = root.right\n",
    "        return ret\n",
    "\n",
    "class Solution1:\n",
    "    def inorderTraversal(self, root: Optional[TreeNode]) -> List[int]:\n",
    "        ret = []\n",
    "        def f(root):\n",
    "            if root: \n",
    "                f(root.left); ret.append(root.val); f(root.right)\n",
    "        f(root)\n",
    "        return ret"
   ]
  },
  {
   "cell_type": "code",
   "execution_count": 37,
   "metadata": {},
   "outputs": [],
   "source": [
    "# 95. https://leetcode.com/problems/unique-binary-search-trees-ii/\n",
    "class Solution:\n",
    "    def generateTrees(self, n: int) -> List[TreeNode]:\n",
    "        def dfs(l):\n",
    "            if not l: return [None]\n",
    "            if len(l) == 1: return [TreeNode(val=l[0])]\n",
    "            return [TreeNode(a, b, c) for i, a in enumerate(l) for b in dfs(l[:i]) for c in dfs(l[i+1:])]\n",
    "        return dfs(list(range(1, n+1)))"
   ]
  },
  {
   "cell_type": "code",
   "execution_count": 38,
   "metadata": {},
   "outputs": [],
   "source": [
    "# 96. https://leetcode.com/problems/unique-binary-search-trees/\n",
    "class Solution:\n",
    "    def numTrees(self, n: int) -> int:\n",
    "        dp = [1]*(n+1)\n",
    "        for i in range(2, n+1):\n",
    "            dp[i] = sum(dp[j]*dp[i-j-1] for j in range(i))\n",
    "        return dp[-1]"
   ]
  },
  {
   "cell_type": "code",
   "execution_count": 1,
   "metadata": {},
   "outputs": [],
   "source": [
    "# 97. https://leetcode.com/problems/interleaving-string/\n",
    "class Solution:\n",
    "    def isInterleave(self, s1: str, s2: str, s3: str) -> bool:\n",
    "        l1, l2, l3, dp = len(s1), len(s2), len(s3), [[True]* (len(s2)+1) for _ in range(len(s1)+1)]\n",
    "        if l3 != l1 + l2: return False\n",
    "        for i in range(l1+1):\n",
    "            for j in range(l2+1):\n",
    "                dp[i][j] = (i==0 and j==0) or (i>=1 and dp[i-1][j]  and s1[i-1] == s3[i+j-1]) or (j>=1 and dp[i][j-1] and s2[j-1] == s3[i+j-1])\n",
    "        return dp[-1][-1]"
   ]
  },
  {
   "cell_type": "code",
   "execution_count": 4,
   "metadata": {},
   "outputs": [],
   "source": [
    "# 98. https://leetcode.com/problems/validate-binary-search-tree/\n",
    "class Solution:\n",
    "    def isValidBST(self, root: Optional[TreeNode]) -> bool:\n",
    "        def bstRange(root):\n",
    "            if root and (not root.left) and (not root.right):\n",
    "                return (root.val, root.val) \n",
    "            l, r = bstRange(root.left) if root.left else (root.val, float('-inf')), bstRange(root.right) if root.right else(float('inf'), root.val)\n",
    "            return (l[0], r[1]) if l and r and root.val > l[1] and root.val < r[0] else None\n",
    "        return bstRange(root) is not None\n",
    "                \n",
    "class Solution1:\n",
    "    def isValidBST(self, root: Optional[TreeNode]) -> bool:\n",
    "        q, prev = [], float('-inf')\n",
    "        while q or root:\n",
    "            if root:\n",
    "                q.append(root)\n",
    "                root = root.left\n",
    "            else:\n",
    "                v = q.pop()\n",
    "                if v.val <= prev: return False\n",
    "                prev, root = v.val, v.right\n",
    "        return True"
   ]
  },
  {
   "cell_type": "code",
   "execution_count": 7,
   "metadata": {},
   "outputs": [],
   "source": [
    "# 99. https://leetcode.com/problems/recover-binary-search-tree/\n",
    "class Solution:\n",
    "    def recoverTree(self, root: Optional[TreeNode]) -> None:\n",
    "        \"\"\"\n",
    "        Do not return anything, modify root in-place instead.\n",
    "        \"\"\"\n",
    "        self.first, self.second, self.prev = None, None, None\n",
    "        def inorder(root):\n",
    "            if not root: return\n",
    "            inorder(root.left)\n",
    "            if self.prev and root.val < self.prev.val:\n",
    "                if not self.first: self.first = self.prev\n",
    "                self.second = root\n",
    "            self.prev = root\n",
    "            inorder(root.right)\n",
    "        inorder(root)\n",
    "        self.first.val, self.second.val = self.second.val, self.first.val"
   ]
  },
  {
   "cell_type": "code",
   "execution_count": 8,
   "metadata": {},
   "outputs": [],
   "source": [
    "# 100. https://leetcode.com/problems/same-tree/\n",
    "class Solution:\n",
    "    def isSameTree(self, p: TreeNode, q: TreeNode) -> bool:\n",
    "        if not p and not q: return True\n",
    "        if not p or not q: return False\n",
    "        return p.val == q.val and self.isSameTree(p.left, q.left) and self.isSameTree(p.right, q.right)"
   ]
  },
  {
   "cell_type": "code",
   "execution_count": null,
   "metadata": {},
   "outputs": [],
   "source": []
  }
 ],
 "metadata": {
  "interpreter": {
   "hash": "376d9237ede9442d972b968135a4eef881e54875bb30b95a617238950d262340"
  },
  "kernelspec": {
   "display_name": "Python 3.9.9 ('base')",
   "language": "python",
   "name": "python3"
  },
  "language_info": {
   "codemirror_mode": {
    "name": "ipython",
    "version": 3
   },
   "file_extension": ".py",
   "mimetype": "text/x-python",
   "name": "python",
   "nbconvert_exporter": "python",
   "pygments_lexer": "ipython3",
   "version": "3.9.9"
  },
  "orig_nbformat": 4
 },
 "nbformat": 4,
 "nbformat_minor": 2
}
