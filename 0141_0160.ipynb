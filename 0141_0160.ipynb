{
 "cells": [
  {
   "cell_type": "code",
   "execution_count": 1,
   "metadata": {},
   "outputs": [],
   "source": [
    "# prepare\n",
    "from typing import Optional\n",
    "from typing import List\n",
    "class ListNode:\n",
    "    def __init__(self, val=0, next=None):\n",
    "        self.val = val\n",
    "        self.next = next\n",
    "\n",
    "class TreeNode:\n",
    "    def __init__(self, val=0, left=None, right=None):\n",
    "        self.val = val\n",
    "        self.left = left\n",
    "        self.right = right\n",
    "\n",
    "class Node:\n",
    "    def __init__(self, val: int = 0, left: 'Node' = None, right: 'Node' = None, next: 'Node' = None):\n",
    "        self.val = val\n",
    "        self.left = left\n",
    "        self.right = right\n",
    "        self.next = next"
   ]
  },
  {
   "cell_type": "code",
   "execution_count": 3,
   "metadata": {},
   "outputs": [],
   "source": [
    "# 141. https://leetcode.com/problems/linked-list-cycle/\n",
    "class Solution:\n",
    "    def hasCycle(self, head: Optional[ListNode]) -> bool:\n",
    "        slow = fast = head \n",
    "        while fast and fast.next and slow:\n",
    "            fast, slow = fast.next.next, slow.next\n",
    "            if fast == slow: return True\n",
    "        return False"
   ]
  },
  {
   "cell_type": "code",
   "execution_count": 4,
   "metadata": {},
   "outputs": [],
   "source": [
    "# 142. https://leetcode.com/problems/linked-list-cycle-ii/\n",
    "class Solution:\n",
    "    def detectCycle(self, head: ListNode) -> ListNode:\n",
    "        fast = slow = head\n",
    "        while fast and fast.next:\n",
    "            fast, slow = fast.next.next, slow.next\n",
    "            if fast and fast == slow:\n",
    "                fast = head\n",
    "                while fast != slow: fast, slow = fast.next, slow.next\n",
    "                return fast\n",
    "        return None\n"
   ]
  },
  {
   "cell_type": "code",
   "execution_count": 5,
   "metadata": {},
   "outputs": [],
   "source": [
    "# 143. https://leetcode.com/problems/reorder-list/\n",
    "class Solution:\n",
    "    def reorderList(self, head: ListNode) -> None:\n",
    "        \"\"\"\n",
    "        Do not return anything, modify head in-place instead.\n",
    "        \"\"\"\n",
    "        if not head.next: return head\n",
    "        slow = fast = head; q = []; dummy = ListNode(0, head)\n",
    "        while fast and fast.next and fast.next.next:\n",
    "            fast, slow = fast.next.next, slow.next\n",
    "        isodd = not fast.next\n",
    "        while slow: q, slow = q+[slow], slow.next\n",
    "        while head and q:\n",
    "            a = q.pop()\n",
    "            head.next, head, a.next = a, head.next, head.next\n",
    "        if isodd: head.next.next = None\n",
    "        else: head.next = None\n",
    "        return dummy.next"
   ]
  },
  {
   "cell_type": "code",
   "execution_count": null,
   "metadata": {},
   "outputs": [],
   "source": [
    "# 144. https://leetcode.com/problems/binary-tree-preorder-traversal/\n",
    "class Solution:\n",
    "    def preorderTraversal(self, root: Optional[TreeNode]) -> List[int]:\n",
    "        q, r = [root] if root else [], []\n",
    "        while q:\n",
    "            r, node = r+[q[-1].val], q.pop()\n",
    "            if node.right: q.append(node.right)\n",
    "            if node.left: q.append(node.left)\n",
    "        return r"
   ]
  },
  {
   "cell_type": "code",
   "execution_count": 6,
   "metadata": {},
   "outputs": [],
   "source": [
    "# 145. https://leetcode.com/problems/binary-tree-postorder-traversal/\n",
    "class Solution:\n",
    "    def postorderTraversal(self, root: Optional[TreeNode]) -> List[int]:\n",
    "        q, prev, r = [root] if root else [], None, []\n",
    "        while q:\n",
    "            node = q[-1]\n",
    "            if (node.left == node.right == None) or (prev != None and prev in (node.left, node.right)):\n",
    "                q.pop(); r.append(node.val); prev = node\n",
    "            else: q.extend([a for a in (node.right, node.left) if a])\n",
    "        return r"
   ]
  },
  {
   "cell_type": "code",
   "execution_count": 20,
   "metadata": {},
   "outputs": [],
   "source": [
    "# 146. https://leetcode.com/problems/lru-cache/\n",
    "class Node:\n",
    "    def __init__(self, key='', val=0, prev=None, next=None):\n",
    "        self.key, self.val, self.prev, self.next = key, val, prev, next\n",
    "\n",
    "class LRUCache:\n",
    "\n",
    "    def __init__(self, capacity: int):\n",
    "        self.d, self.tail, self.capacity = {}, Node(), capacity\n",
    "        self.head = Node(next=self.tail); self.tail.prev = self.head\n",
    "\n",
    "    def _remove_node(self, node):\n",
    "        p, n = node.prev, node.next\n",
    "        p.next, n.prev = n, p\n",
    "\n",
    "    def _append_node(self, node):\n",
    "        p = node.prev = self.tail.prev; node.next = self.tail \n",
    "        p.next = self.tail.prev = node \n",
    "\n",
    "    def _remove_head_if_overcap(self):\n",
    "        if len(self.d) > self.capacity:\n",
    "            del self.d[self.head.next.key]\n",
    "            self._remove_node(self.head.next)\n",
    "            \n",
    "    def get(self, key: int) -> int:\n",
    "        if key not in self.d:\n",
    "            return -1\n",
    "        else:\n",
    "            n = self.d[key]\n",
    "            self._remove_node(n)\n",
    "            self._append_node(n)\n",
    "            return n.val\n",
    "\n",
    "    def put(self, key: int, value: int) -> None:\n",
    "        if key not in self.d:\n",
    "            n = self.d[key]= Node(key=key, val=value, prev=self.tail.prev, next=self.tail)\n",
    "            self._remove_head_if_overcap()\n",
    "        else:\n",
    "            n = self.d[key]; n.val = value\n",
    "            self._remove_node(n)\n",
    "        self._append_node(n)"
   ]
  },
  {
   "cell_type": "code",
   "execution_count": 1,
   "metadata": {},
   "outputs": [],
   "source": [
    "# 147. https://leetcode.com/problems/insertion-sort-list/\n",
    "class Solution:\n",
    "    def insertionSortList(self, head: ListNode) -> ListNode:\n",
    "        # todo\n",
    "        pass"
   ]
  },
  {
   "cell_type": "code",
   "execution_count": 7,
   "metadata": {},
   "outputs": [],
   "source": [
    "# 148: https://leetcode.com/problems/sort-list/\n",
    "class Solution:\n",
    "    def sortList(self, head: Optional[ListNode]) -> Optional[ListNode]:\n",
    "        # todo\n",
    "        pass"
   ]
  },
  {
   "cell_type": "code",
   "execution_count": 3,
   "metadata": {},
   "outputs": [],
   "source": [
    "# 149. https://leetcode.com/problems/max-points-on-a-line/\n",
    "import collections\n",
    "class Solution:\n",
    "    def maxPoints(self, points: List[List[int]]) -> int:\n",
    "        l, m = len(points), 1\n",
    "        for i in range(l-1):\n",
    "            d = collections.defaultdict(int)\n",
    "            for j in range(i+1, l):\n",
    "                slope = 's' if points[j][0] == points[i][0] and points[j][1] == points[i][1] else ('s' if points[i][0] == points[j][0] else (points[i][1]-points[j][1]) * 10000.0 /(points[i][0]-points[j][0]))\n",
    "                d[slope] += 1\n",
    "            m = max(m, max(d.values()) + 1)\n",
    "        return m"
   ]
  },
  {
   "cell_type": "code",
   "execution_count": 29,
   "metadata": {},
   "outputs": [],
   "source": [
    "# 150. https://leetcode.com/problems/evaluate-reverse-polish-notation/\n",
    "import operator\n",
    "class Solution:\n",
    "    def evalRPN(self, tokens: List[str]) -> int:\n",
    "        q, s = [], {'+': operator.add, '-': operator.sub, '*': operator.mul, '/': lambda x, y: int(x/y)}\n",
    "        for a in tokens:\n",
    "            if a in s:\n",
    "                x, y = q.pop(), q.pop(); q.append(s[a](y, x))\n",
    "            else: q.append(int(a))\n",
    "        return q[-1]"
   ]
  },
  {
   "cell_type": "code",
   "execution_count": 31,
   "metadata": {},
   "outputs": [],
   "source": [
    "# 151. https://leetcode.com/problems/reverse-words-in-a-string/\n",
    "class Solution:\n",
    "    def reverseWords(self, s: str) -> str:\n",
    "        return ' '.join(reversed(s.split()))"
   ]
  },
  {
   "cell_type": "code",
   "execution_count": 32,
   "metadata": {},
   "outputs": [],
   "source": [
    "# 152. https://leetcode.com/problems/maximum-product-subarray/\n",
    "class Solution:\n",
    "    def maxProduct(self, nums: List[int]) -> int:\n",
    "        # min max\n",
    "        curmax = curmin = 1; cmax = float(\"-inf\")\n",
    "        for a in nums:\n",
    "            curmax, curmin = max(a, curmax*a, curmin*a), min(a, curmax*a, curmin*a)\n",
    "            cmax = max(cmax, curmax, curmin)\n",
    "        return cmax\n",
    "\n",
    "class Solution1:\n",
    "    def maxProduct(self, nums: List[int]) -> int:\n",
    "        # left max / right max \n",
    "        r, r1, r2 = float('-inf'), 1, 1\n",
    "        for i in range(len(nums)):\n",
    "            if nums[i] != 0: r1 = r1*nums[i]; r = max(r, r1)\n",
    "            else: r1 = 1\n",
    "            if nums[-i-1] != 0: r2 = r2*nums[-i-1]; r= max(r, r2)\n",
    "            else: r2 = 1; r = max(r, 0)\n",
    "        return r"
   ]
  },
  {
   "cell_type": "code",
   "execution_count": 33,
   "metadata": {},
   "outputs": [],
   "source": [
    "# 153. https://leetcode.com/problems/find-minimum-in-rotated-sorted-array/\n",
    "class Solution:\n",
    "    def findMin(self, nums: List[int]) -> int:\n",
    "        l, r = 0, len(nums)-1\n",
    "        while l < r: \n",
    "            mid = (l + r)//2\n",
    "            if nums[mid] < nums[r]: r = mid\n",
    "            else: l = mid + 1\n",
    "        return nums[l]"
   ]
  },
  {
   "cell_type": "code",
   "execution_count": 13,
   "metadata": {},
   "outputs": [],
   "source": [
    "# 154. https://leetcode.com/problems/find-minimum-in-rotated-sorted-array-ii/\n",
    "class Solution:\n",
    "    def findMin(self, nums: List[int]) -> int:\n",
    "        lo, hi = 0, len(nums)-1\n",
    "        while lo < hi:\n",
    "            mid = (lo+hi)//2\n",
    "            if nums[mid] > nums[hi]: lo = mid + 1\n",
    "            elif nums[mid] < nums[hi]: hi = mid \n",
    "            else: hi -= 1\n",
    "        return nums[lo]"
   ]
  },
  {
   "cell_type": "code",
   "execution_count": 37,
   "metadata": {},
   "outputs": [],
   "source": [
    "# 155. https://leetcode.com/problems/min-stack/\n",
    "class MinStack:\n",
    "    def __init__(self):\n",
    "        self.stack, self.minStack = [float('inf')], [float('inf')]\n",
    "\n",
    "    def push(self, val: int) -> None:\n",
    "        self.stack.append(val)\n",
    "        self.minStack.append(min(self.minStack[-1], val))\n",
    "\n",
    "    def pop(self) -> None:\n",
    "        self.stack.pop()\n",
    "        self.minStack.pop()\n",
    "\n",
    "    def top(self) -> int:\n",
    "        return self.stack[-1]\n",
    "\n",
    "    def getMin(self) -> int:\n",
    "        return self.minStack[-1]"
   ]
  },
  {
   "cell_type": "code",
   "execution_count": 38,
   "metadata": {},
   "outputs": [],
   "source": [
    "# 156. https://leetcode.com/problems/binary-tree-upside-down/\n",
    "# todo"
   ]
  },
  {
   "cell_type": "code",
   "execution_count": 1,
   "metadata": {},
   "outputs": [],
   "source": [
    "# 157. https://leetcode.com/problems/read-n-characters-given-read4/\n",
    "# todo"
   ]
  },
  {
   "cell_type": "code",
   "execution_count": 4,
   "metadata": {},
   "outputs": [],
   "source": [
    "# 158. https://leetcode.com/problems/read-n-characters-given-read4-ii-call-multiple-times/\n",
    "# todo"
   ]
  },
  {
   "cell_type": "code",
   "execution_count": 7,
   "metadata": {},
   "outputs": [],
   "source": [
    "# 159. https://leetcode.com/problems/longest-substring-with-at-most-two-distinct-characters/\n",
    "# todo"
   ]
  },
  {
   "cell_type": "code",
   "execution_count": 8,
   "metadata": {},
   "outputs": [],
   "source": [
    "# 160. https://leetcode.com/problems/intersection-of-two-linked-lists/\n",
    "class Solution:\n",
    "    def getIntersectionNode(self, headA: ListNode, headB: ListNode) -> ListNode:\n",
    "        ca, cb = headA, headB\n",
    "        while ca != cb:\n",
    "            ca, cb = ca.next if ca else headB, cb.next if cb else headA, \n",
    "        return ca \n"
   ]
  },
  {
   "cell_type": "code",
   "execution_count": null,
   "metadata": {},
   "outputs": [],
   "source": []
  }
 ],
 "metadata": {
  "interpreter": {
   "hash": "376d9237ede9442d972b968135a4eef881e54875bb30b95a617238950d262340"
  },
  "kernelspec": {
   "display_name": "Python 3.9.9 ('base')",
   "language": "python",
   "name": "python3"
  },
  "language_info": {
   "codemirror_mode": {
    "name": "ipython",
    "version": 3
   },
   "file_extension": ".py",
   "mimetype": "text/x-python",
   "name": "python",
   "nbconvert_exporter": "python",
   "pygments_lexer": "ipython3",
   "version": "3.9.9"
  },
  "orig_nbformat": 4
 },
 "nbformat": 4,
 "nbformat_minor": 2
}
