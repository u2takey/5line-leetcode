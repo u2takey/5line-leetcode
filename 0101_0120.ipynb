{
 "cells": [
  {
   "cell_type": "code",
   "execution_count": 1,
   "metadata": {},
   "outputs": [],
   "source": [
    "# prepare\n",
    "from typing import Optional\n",
    "from typing import List\n",
    "class ListNode:\n",
    "    def __init__(self, val=0, next=None):\n",
    "        self.val = val\n",
    "        self.next = next\n",
    "\n",
    "class TreeNode:\n",
    "    def __init__(self, val=0, left=None, right=None):\n",
    "        self.val = val\n",
    "        self.left = left\n",
    "        self.right = right\n",
    "\n",
    "class Node:\n",
    "    def __init__(self, val: int = 0, left: 'Node' = None, right: 'Node' = None, next: 'Node' = None):\n",
    "        self.val = val\n",
    "        self.left = left\n",
    "        self.right = right\n",
    "        self.next = next"
   ]
  },
  {
   "cell_type": "code",
   "execution_count": 3,
   "metadata": {},
   "outputs": [],
   "source": [
    "# 101. https://leetcode.com/problems/symmetric-tree/\n",
    "class Solution:\n",
    "    def isSymmetric(self, root: Optional[TreeNode]) -> bool:\n",
    "        def helper(p, q):\n",
    "            if not p and not q: return True\n",
    "            if not p or not q: return False\n",
    "            return p.val == q.val and helper(p.left, q.right) and helper(p.right, q.left)\n",
    "        return helper(root.left, root.right)"
   ]
  },
  {
   "cell_type": "code",
   "execution_count": 4,
   "metadata": {},
   "outputs": [],
   "source": [
    "# 102. https://leetcode.com/problems/binary-tree-level-order-traversal/\n",
    "class Solution:\n",
    "    def levelOrder(self, root: TreeNode) -> List[List[int]]:\n",
    "        q, ret = [root] if root else [], []\n",
    "        while q:\n",
    "            ret.append([a.val for a in q])\n",
    "            q = [b for a in q for b in (a.left, a.right) if b]\n",
    "        return ret\n"
   ]
  },
  {
   "cell_type": "code",
   "execution_count": 5,
   "metadata": {},
   "outputs": [],
   "source": [
    "# 103. https://leetcode.com/problems/binary-tree-zigzag-level-order-traversal/\n",
    "class Solution:\n",
    "    def zigzagLevelOrder(self, root: TreeNode) -> List[List[int]]:\n",
    "        q, ret, reverse = [root] if root else [], [], False\n",
    "        while q:\n",
    "            ret.append([a.val for a in (q if not reverse else reversed(q))])\n",
    "            q, reverse = not reverse, [b for a in q for b in (a.left, a.right) if b]\n",
    "        return ret"
   ]
  },
  {
   "cell_type": "code",
   "execution_count": null,
   "metadata": {},
   "outputs": [],
   "source": [
    "# 104. https://leetcode.com/problems/maximum-depth-of-binary-tree/\n",
    "class Solution:\n",
    "    def maxDepth(self, root: Optional[TreeNode]) -> int:\n",
    "        return 0 if not root else 1+max(self.maxDepth(root.left), self.maxDepth(root.right))"
   ]
  },
  {
   "cell_type": "code",
   "execution_count": 6,
   "metadata": {},
   "outputs": [],
   "source": [
    "# 105. https://leetcode.com/problems/construct-binary-tree-from-preorder-and-inorder-traversal/\n",
    "class Solution:\n",
    "    def buildTree(self, preorder: List[int], inorder: List[int]) -> TreeNode:\n",
    "        if not preorder: return None\n",
    "        i = inorder.index(preorder[0])\n",
    "        return TreeNode(preorder[0], self.buildTree(preorder[1:i+1], inorder[:i]), self.buildTree(preorder[i+1:], inorder[i+1:]))"
   ]
  },
  {
   "cell_type": "code",
   "execution_count": 20,
   "metadata": {},
   "outputs": [],
   "source": [
    "# 106. https://leetcode.com/problems/construct-binary-tree-from-inorder-and-postorder-traversal/\n",
    "class Solution:\n",
    "    def buildTree(self, inorder: List[int], postorder: List[int]) -> TreeNode:\n",
    "        if not postorder: return None\n",
    "        i = inorder.index(postorder[-1])\n",
    "        return TreeNode(postorder[-1], self.buildTree(inorder[:i], postorder[:i]), self.buildTree(inorder[i+1:], postorder[i:len(postorder)-1]))"
   ]
  },
  {
   "cell_type": "code",
   "execution_count": 1,
   "metadata": {},
   "outputs": [],
   "source": [
    "# 107. https://leetcode.com/problems/binary-tree-level-order-traversal-ii/\n",
    "class Solution:\n",
    "    def levelOrderBottom(self, root: TreeNode) -> List[List[int]]:\n",
    "        q, r = [root] if root else [], []\n",
    "        while q:\n",
    "            r.append([a.val for a in q])\n",
    "            q = [a for c in q for a in [c.left, c.right] if a]\n",
    "        return r[::-1]"
   ]
  },
  {
   "cell_type": "code",
   "execution_count": 7,
   "metadata": {},
   "outputs": [],
   "source": [
    "# 108: https://leetcode.com/problems/convert-sorted-array-to-binary-search-tree/\n",
    "class Solution:\n",
    "    def sortedArrayToBST(self, nums: List[int]) -> Optional[TreeNode]:\n",
    "        if not nums: return None\n",
    "        i = len(nums)//2\n",
    "        return TreeNode(nums[i], self.sortedArrayToBST(nums[:i]), self.sortedArrayToBST(nums[i+1:]))"
   ]
  },
  {
   "cell_type": "code",
   "execution_count": 3,
   "metadata": {},
   "outputs": [],
   "source": [
    "# 109. https://leetcode.com/problems/convert-sorted-list-to-binary-search-tree/\n",
    "class Solution:\n",
    "    def sortedListToBST(self, head: ListNode) -> TreeNode:\n",
    "        def getMedian(left: ListNode, right: ListNode) -> ListNode:\n",
    "            fast = slow = left\n",
    "            while fast != right and fast.next != right:\n",
    "                fast, slow = fast.next.next, slow.next\n",
    "            return slow\n",
    "        \n",
    "        def buildTree(left: ListNode, right: ListNode) -> TreeNode:\n",
    "            if left == right: return None\n",
    "            mid = getMedian(left, right)\n",
    "            return TreeNode(mid.val, buildTree(left, mid), buildTree(mid.next, right))\n",
    "        \n",
    "        return buildTree(head, None)"
   ]
  },
  {
   "cell_type": "code",
   "execution_count": 29,
   "metadata": {},
   "outputs": [],
   "source": [
    "# 110. https://leetcode.com/problems/balanced-binary-tree/\n",
    "class Solution:\n",
    "    def isBalanced(self, root: TreeNode) -> bool:\n",
    "        def height(root):\n",
    "            if not root: return 0\n",
    "            l, r = height(root.left), height(root.right)\n",
    "            return max(l, r) + 1 if r != -1 and l != -1 and abs(l -r) <=1 else -1\n",
    "        return height(root) != -1"
   ]
  },
  {
   "cell_type": "code",
   "execution_count": 31,
   "metadata": {},
   "outputs": [],
   "source": [
    "# 111. https://leetcode.com/problems/minimum-depth-of-binary-tree/\n",
    "class Solution:\n",
    "    def minDepth(self, root: Optional[TreeNode]) -> int:\n",
    "        if not root: return 0\n",
    "        l, r = self.minDepth(root.left), self.minDepth(root.right)\n",
    "        return l + r +1 if l == 0 or r == 0 else min(l, r) + 1"
   ]
  },
  {
   "cell_type": "code",
   "execution_count": 32,
   "metadata": {},
   "outputs": [],
   "source": [
    "# 112. https://leetcode.com/problems/path-sum/\n",
    "class Solution:\n",
    "    def hasPathSum(self, root: Optional[TreeNode], targetSum: int) -> bool:\n",
    "        if not root: return False\n",
    "        if not root.left and not root.right: return targetSum == root.val\n",
    "        return self.hasPathSum(root.left, targetSum-root.val) or self.hasPathSum(root.right, targetSum-root.val)"
   ]
  },
  {
   "cell_type": "code",
   "execution_count": 33,
   "metadata": {},
   "outputs": [],
   "source": [
    "# 113. https://leetcode.com/problems/path-sum-ii/\n",
    "class Solution:\n",
    "    def pathSum(self, root: Optional[TreeNode], targetSum: int) -> List[List[int]]:\n",
    "        if not root: return []\n",
    "        if not root.left and not root.right:\n",
    "            return [[root.val]] if root.val == targetSum else []\n",
    "        return [[root.val]+a for a in (self.pathSum(root.left, targetSum-root.val) + self.pathSum(root.right, targetSum-root.val))]"
   ]
  },
  {
   "cell_type": "code",
   "execution_count": 13,
   "metadata": {},
   "outputs": [],
   "source": [
    "# 114. https://leetcode.com/problems/flatten-binary-tree-to-linked-list/\n",
    "class Solution:\n",
    "    last = None\n",
    "    def flatten(self, root: TreeNode) -> None:\n",
    "        if not root: return\n",
    "        self.flatten(root.right)\n",
    "        self.flatten(root.left)\n",
    "        root.right, root.left, self.last = self.last, None, root"
   ]
  },
  {
   "cell_type": "code",
   "execution_count": 37,
   "metadata": {},
   "outputs": [],
   "source": [
    "# 115. https://leetcode.com/problems/distinct-subsequences/\n",
    "class Solution:\n",
    "    def numDistinct(self, s: str, t: str) -> int:\n",
    "        dp, ls, lt = [[0] * (len(t)+1) for _ in range(len(s)+1)], len(s), len(t)\n",
    "        for i in range(ls+1): dp[i][0] = 1\n",
    "        for i in range(1, ls+1):\n",
    "            for j in range(1, lt+1):\n",
    "                dp[i][j] = dp[i-1][j] + dp[i-1][j-1]*(s[i-1] == t[j-1])\n",
    "        return dp[-1][-1]"
   ]
  },
  {
   "cell_type": "code",
   "execution_count": 38,
   "metadata": {},
   "outputs": [],
   "source": [
    "# 116. https://leetcode.com/problems/populating-next-right-pointers-in-each-node/\n",
    "class Solution:\n",
    "    def connect(self, root: 'Optional[Node]') -> 'Optional[Node]':\n",
    "        q = [root] if root else []\n",
    "        while q:\n",
    "            for i in range(len(q)-1):\n",
    "                q[i].next = q[i+1]\n",
    "            q = [a for b in q for a in (b.left, b.right) if a]\n",
    "        return root"
   ]
  },
  {
   "cell_type": "code",
   "execution_count": 1,
   "metadata": {},
   "outputs": [],
   "source": [
    "# 117. https://leetcode.com/problems/populating-next-right-pointers-in-each-node-ii/\n",
    "class Solution:\n",
    "    def connect(self, root: 'Node') -> 'Node':\n",
    "        q = [root] if root else []\n",
    "        while q:\n",
    "            for i in range(len(q)-1):\n",
    "                q[i].next = q[i+1]\n",
    "            q = [a for b in q for a in (b.left, b.right) if a]\n",
    "        return root\n"
   ]
  },
  {
   "cell_type": "code",
   "execution_count": 4,
   "metadata": {},
   "outputs": [],
   "source": [
    "# 118. https://leetcode.com/problems/pascals-triangle/\n",
    "class Solution:\n",
    "    def generate(self, numRows: int) -> List[List[int]]:\n",
    "        r = [[1]]\n",
    "        for i in range(1, numRows):\n",
    "            r.append([(r[-1][j-1] if j>=1 else 0)+(r[-1][j] if j<i else 0) for j in range(i+1)])\n",
    "        return r"
   ]
  },
  {
   "cell_type": "code",
   "execution_count": 7,
   "metadata": {},
   "outputs": [],
   "source": [
    "# 119. https://leetcode.com/problems/pascals-triangle-ii/\n",
    "class Solution:\n",
    "    def getRow(self, rowIndex: int) -> List[int]:\n",
    "        row = [1]\n",
    "        for _ in range(rowIndex):\n",
    "            row = [x + y for x, y in zip([0]+row, row+[0])]\n",
    "        return row"
   ]
  },
  {
   "cell_type": "code",
   "execution_count": 8,
   "metadata": {},
   "outputs": [],
   "source": [
    "# 120. https://leetcode.com/problems/triangle/\n",
    "class Solution:\n",
    "    def minimumTotal(self, triangle: List[List[int]]) -> int:\n",
    "        for i in range(1, len(triangle)):\n",
    "            for j in range(i+1):\n",
    "                triangle[i][j] = min(triangle[i-1][j-1] if j>=1 else float('inf'), triangle[i-1][j] if j <i else float('inf')) + triangle[i][j]\n",
    "        return min(triangle[-1])"
   ]
  },
  {
   "cell_type": "code",
   "execution_count": null,
   "metadata": {},
   "outputs": [],
   "source": []
  }
 ],
 "metadata": {
  "interpreter": {
   "hash": "376d9237ede9442d972b968135a4eef881e54875bb30b95a617238950d262340"
  },
  "kernelspec": {
   "display_name": "Python 3.9.9 ('base')",
   "language": "python",
   "name": "python3"
  },
  "language_info": {
   "codemirror_mode": {
    "name": "ipython",
    "version": 3
   },
   "file_extension": ".py",
   "mimetype": "text/x-python",
   "name": "python",
   "nbconvert_exporter": "python",
   "pygments_lexer": "ipython3",
   "version": "3.9.9"
  },
  "orig_nbformat": 4
 },
 "nbformat": 4,
 "nbformat_minor": 2
}
