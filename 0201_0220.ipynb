{
 "cells": [
  {
   "cell_type": "code",
   "execution_count": 1,
   "metadata": {},
   "outputs": [],
   "source": [
    "# prepare\n",
    "from typing import Optional\n",
    "from typing import List\n",
    "class ListNode:\n",
    "    def __init__(self, val=0, next=None):\n",
    "        self.val = val\n",
    "        self.next = next\n",
    "\n",
    "class TreeNode:\n",
    "    def __init__(self, val=0, left=None, right=None):\n",
    "        self.val = val\n",
    "        self.left = left\n",
    "        self.right = right\n",
    "\n",
    "class Node:\n",
    "    def __init__(self, val: int = 0, left: 'Node' = None, right: 'Node' = None, next: 'Node' = None):\n",
    "        self.val = val\n",
    "        self.left = left\n",
    "        self.right = right\n",
    "        self.next = next"
   ]
  },
  {
   "cell_type": "code",
   "execution_count": 3,
   "metadata": {},
   "outputs": [],
   "source": [
    "# 201. https://leetcode.com/problems/bitwise-and-of-numbers-range/\n",
    "class Solution:\n",
    "    def rangeBitwiseAnd(self, left: int, right: int) -> int:  \n",
    "        # find common prefix\n",
    "        k = 0\n",
    "        while left < right:\n",
    "            left, right, k = left >> 1, right >> 1, k + 1\n",
    "        return left << k"
   ]
  },
  {
   "cell_type": "code",
   "execution_count": 4,
   "metadata": {},
   "outputs": [],
   "source": [
    "# 202. https://leetcode.com/problems/happy-number/\n",
    "class Solution:\n",
    "    def isHappy(self, n: int) -> bool:\n",
    "        seen = set()\n",
    "        while n != 1 and n not in seen:\n",
    "            seen.add(n)\n",
    "            n = sum(int(a)**2 for a in str(n))\n",
    "        return n == 1"
   ]
  },
  {
   "cell_type": "code",
   "execution_count": null,
   "metadata": {},
   "outputs": [],
   "source": [
    "# 203. https://leetcode.com/problems/remove-linked-list-elements/\n",
    "class Solution:\n",
    "    def removeElements(self, head: ListNode, val: int) -> ListNode:\n",
    "        prev = dummy = ListNode(next=head)\n",
    "        while head:\n",
    "            if head.val == val: prev.next, head = head.next, head.next\n",
    "            else: prev, head = prev.next, head.next\n",
    "        return dummy.next"
   ]
  },
  {
   "cell_type": "code",
   "execution_count": null,
   "metadata": {},
   "outputs": [],
   "source": [
    "# 204. https://leetcode.com/problems/count-primes/\n",
    "class Solution:\n",
    "    def countPrimes(self, n: int) -> int:\n",
    "        if n < 3: return 0\n",
    "        p = [1]*(n); p[0] = p[1] = 0\n",
    "        for i in range(2, n):\n",
    "            if p[i]:\n",
    "                p[i*i:n:i] = [0]*len(p[i * i: n: i])\n",
    "        return sum(p)"
   ]
  },
  {
   "cell_type": "code",
   "execution_count": null,
   "metadata": {},
   "outputs": [],
   "source": [
    "# 205. https://leetcode.com/problems/isomorphic-strings/\n",
    "class Solution:\n",
    "    def isIsomorphic(self, s: str, t: str) -> bool:\n",
    "        d1, d2 = {}, {}\n",
    "        for a, b in zip(s, t):\n",
    "            if a in d1 and d1[a] != b: return False\n",
    "            if b in d2 and d2[b] != a: return False\n",
    "            d1[a], d2[b] = b, a\n",
    "        return True"
   ]
  },
  {
   "cell_type": "code",
   "execution_count": null,
   "metadata": {},
   "outputs": [],
   "source": [
    "# 206. https://leetcode.com/problems/reverse-linked-list/\n",
    "class Solution:\n",
    "    def reverseList(self, head: ListNode) -> ListNode:\n",
    "        if not head or not head.next: return head\n",
    "        prev = None\n",
    "        while head:\n",
    "            prev, head.next, head,  = head, prev, head.next\n",
    "        return prev"
   ]
  },
  {
   "cell_type": "code",
   "execution_count": null,
   "metadata": {},
   "outputs": [],
   "source": [
    "# 207. https://leetcode.com/problems/course-schedule/\n",
    "import collections\n",
    "class Solution:\n",
    "    def canFinish(self, numCourses: int, prerequisites: List[List[int]]) -> bool:\n",
    "        # toplogy sort\n",
    "        dependnee, degree, n = collections.defaultdict(list), collections.Counter(), len(prerequisites)\n",
    "        for a, b in prerequisites:\n",
    "            dependnee[b].append(a); degree[a] += 1\n",
    "        q = [i for i in range(numCourses) if degree[i] == 0]\n",
    "        while q:\n",
    "            a = q.pop()\n",
    "            for b in dependnee[a]:\n",
    "                degree[b], n = degree[b] - 1, n - 1\n",
    "                if degree[b] == 0: q.append(b)\n",
    "        return n == 0"
   ]
  },
  {
   "cell_type": "code",
   "execution_count": null,
   "metadata": {},
   "outputs": [],
   "source": [
    "# 208. https://leetcode.com/problems/implement-trie-prefix-tree/\n",
    "class Trie:\n",
    "    \n",
    "    def __init__(self):\n",
    "        self.path, self.end, self.children = 0, 0, collections.defaultdict(Trie)\n",
    "\n",
    "    def insert(self, word: str) -> None:\n",
    "        n = self\n",
    "        for a in word:\n",
    "            n = n.children[a]; n.path += 1\n",
    "        n.end += 1\n",
    "\n",
    "    def search(self, word: str) -> bool:\n",
    "        n = self\n",
    "        for a in word:\n",
    "            n = n.children[a]\n",
    "        return n.end > 0\n",
    "\n",
    "    def startsWith(self, prefix: str) -> bool:\n",
    "        n = self\n",
    "        for a in prefix:\n",
    "            n = n.children[a]\n",
    "        return n.path > 0"
   ]
  },
  {
   "cell_type": "code",
   "execution_count": null,
   "metadata": {},
   "outputs": [],
   "source": [
    "# 209. https://leetcode.com/problems/minimum-size-subarray-sum/\n",
    "class Solution:\n",
    "    def minSubArrayLen(self, target: int, nums: List[int]) -> int:\n",
    "        lo, s, l = -1, 0, float('inf')\n",
    "        for hi, a in enumerate(nums):\n",
    "            s += a\n",
    "            while s >= target:\n",
    "                l, lo, s = min(l, hi - lo), lo + 1, s - nums[lo + 1]\n",
    "        return l if l != float('inf') else 0\n"
   ]
  },
  {
   "cell_type": "code",
   "execution_count": null,
   "metadata": {},
   "outputs": [],
   "source": [
    "# 210. https://leetcode.com/problems/course-schedule-ii/\n",
    "class Solution:\n",
    "    def findOrder(self, numCourses: int, prerequisites: List[List[int]]) -> List[int]:\n",
    "        # toplogy sort\n",
    "        dependnee, degree, n, r = collections.defaultdict(list), collections.Counter(), len(prerequisites), []\n",
    "        for a, b in prerequisites:\n",
    "            dependnee[b].append(a); degree[a] += 1\n",
    "        q = [i for i in range(numCourses) if degree[i] == 0]\n",
    "        while q:\n",
    "            a = q.pop(); r.append(a)\n",
    "            for b in dependnee[a]:\n",
    "                degree[b], n = degree[b] - 1, n - 1\n",
    "                if degree[b] == 0: q.append(b)\n",
    "        return r if n == 0 else []"
   ]
  },
  {
   "cell_type": "code",
   "execution_count": null,
   "metadata": {},
   "outputs": [],
   "source": [
    "# 211. https://leetcode.com/problems/design-add-and-search-words-data-structure/\n",
    "class WordDictionary:\n",
    "    def __init__(self):\n",
    "        self.end, self.path, self.children = 0, 0, collections.defaultdict(WordDictionary)\n",
    "\n",
    "    def addWord(self, word: str) -> None:\n",
    "        n = self\n",
    "        for a in word:\n",
    "            n = n.children[a]; n.path += 1\n",
    "        n.end += 1\n",
    "\n",
    "    def search(self, word: str) -> bool:\n",
    "        n = [self]\n",
    "        for a in word:\n",
    "            n = [b.children[a] for b in n if b.children[a].path > 0] if a != '.' else [b.children[k] for b in n for k in b.children.keys() if b.children[k].path > 0]\n",
    "            if not n: return False\n",
    "        return any([b.end > 0 for b in n])\n"
   ]
  },
  {
   "cell_type": "code",
   "execution_count": null,
   "metadata": {},
   "outputs": [],
   "source": [
    "# 212. https://leetcode.com/problems/word-search-ii/\n",
    "class Trie:\n",
    "    def __init__(self, words=[]):\n",
    "        self.w, self.children = '', collections.defaultdict(Trie)\n",
    "        for w in words:\n",
    "            self.addWord(w)\n",
    "\n",
    "    def addWord(self, word):\n",
    "        n = self\n",
    "        for a in word:\n",
    "            n = n.children[a]\n",
    "        n.w = word\n",
    "\n",
    "\n",
    "class Solution:\n",
    "    def findWords(self, board: List[List[str]], words: List[str]) -> List[str]:\n",
    "        r, seen, m, n = [0], set(), len(board), len(board[0])\n",
    "        def dfs(node, i, j):\n",
    "            board[i][j], temp = '#', board[i][j]\n",
    "            if node.w != '':\n",
    "                seen.add(node.w) \n",
    "            for x, y in [(i-1,j),(i+1,j),(i,j-1),(i,j+1)]:\n",
    "                if 0<=x<m and 0<=y<n and board[x][y] in node.children:\n",
    "                    dfs(node.children[board[x][y]], x, y)\n",
    "            board[i][j] = temp\n",
    "        node = Trie(words)\n",
    "        for i in range(m):\n",
    "            for j in range(n):\n",
    "                if board[i][j] in node.children:\n",
    "                    dfs(node.children[board[i][j]], i, j)\n",
    "        return list(seen)"
   ]
  },
  {
   "cell_type": "code",
   "execution_count": null,
   "metadata": {},
   "outputs": [],
   "source": [
    "# 213. https://leetcode.com/problems/house-robber-ii/\n",
    "class Solution:\n",
    "    def rob(self, nums: List[int]) -> int:\n",
    "        d1, d2 = [0] * len(nums), [0] * len(nums); d2[0] = nums[0]\n",
    "        for i in range(1, len(nums)):\n",
    "            d1[i] = max(d1[i-1], (d1[i-2] if i > 1 else 0) + nums[i])\n",
    "            d2[i] = max(d2[i-1], (d2[i-2] if i > 1 else 0) + nums[i] if i!=(len(nums)-1) else 0)\n",
    "        return max(d1[-1], d2[-1])"
   ]
  },
  {
   "cell_type": "code",
   "execution_count": 8,
   "metadata": {},
   "outputs": [],
   "source": [
    "# 214. https://leetcode.com/problems/shortest-palindrome/\n",
    "class Solution:\n",
    "    def shortestPalindrome(self, s: str) -> str:\n",
    "        def getNextTable(s):\n",
    "            i, j, nextTable = 0, -1, [0]*(len(s)+1); nextTable[0] = -1\n",
    "            while i < len(s):\n",
    "                if j == -1 or s[i] == s[j]:\n",
    "                    i, j = i+1, j+1; nextTable[i] = j\n",
    "                else:\n",
    "                    j = nextTable[j]\n",
    "            return nextTable\n",
    "        nextTable = getNextTable(s)\n",
    "        return s[getNextTable(s + \"#\" + s[::-1])[-1]:][::-1] + s\n",
    "\n",
    "\n",
    "# which you should know: \n",
    "# 1. nextTable[i] means: a[:i] == a[-i:]\n",
    "# 2. function nextTable is similar to KMP, key point: \n",
    "#       i, j init with (0,-1) or (0, 0); nextTable init with length: n+1, [0] = -1\n",
    "\n",
    "# def nextTable(s0):\n",
    "#     i, j = 0, -1\n",
    "#     next = [0] * (len(s0) + 1)\n",
    "#     next[0] = -1\n",
    "#     while i < len(s0):\n",
    "#         if j == -1 or s0[i] == s0[j]:\n",
    "#             i += 1\n",
    "#             j += 1\n",
    "#             next[i] = j\n",
    "#         else:\n",
    "#             j = next[j]\n",
    "#     return next\n",
    "\n",
    "# def KMP(s0, s1):\n",
    "#     i, j = 0, 0\n",
    "#     next = nextTable(s1) \n",
    "#     while i < len(s0) and j < len(s1):\n",
    "#         if j == -1 or s0[i] == s1[j]:\n",
    "#             i += 1\n",
    "#             j += 1\n",
    "#         else:\n",
    "#             print(i, j, s0[i], s1[j], next[j])\n",
    "#             j = next[j]\n",
    "#     return (i - j) if j == len(s1) else -1"
   ]
  },
  {
   "cell_type": "code",
   "execution_count": null,
   "metadata": {},
   "outputs": [],
   "source": [
    "# 215. https://leetcode.com/problems/kth-largest-element-in-an-array/\n",
    "class Solution:\n",
    "    def findKthLargest(self, nums: List[int], k: int) -> int:\n",
    "        # quick partition\n",
    "        def quickPartition(nums, left, right, pivotIndex):\n",
    "            pivotValue, nums[pivotIndex], nums[right], storeIndex = nums[pivotIndex], nums[right], nums[pivotIndex], left\n",
    "            for i in range(left, right):\n",
    "                if nums[i] > pivotValue: \n",
    "                    nums[storeIndex], nums[i], storeIndex = nums[i], nums[storeIndex], storeIndex + 1\n",
    "            nums[storeIndex], nums[pivotIndex] = nums[pivotIndex], nums[storeIndex]\n",
    "            return storeIndex\n",
    "        \n",
    "        storeIndex = quickPartition(nums, 0, len(nums)-1, len(nums)-1)\n",
    "        return nums[storeIndex] if storeIndex == k-1 else (self.findKthLargest(nums[:storeIndex], k) if storeIndex > k-1 else self.findKthLargest(nums[storeIndex+1:], k-storeIndex-1))"
   ]
  },
  {
   "cell_type": "code",
   "execution_count": null,
   "metadata": {},
   "outputs": [],
   "source": [
    "# 216. https://leetcode.com/problems/combination-sum-iii/\n",
    "class Solution:\n",
    "    def combinationSum3(self, k: int, n: int) -> List[List[int]]:\n",
    "        def dfs(k, n, hi):\n",
    "            if k == 0:\n",
    "                return [[]] * (not n)\n",
    "            return [a + [last] for last in range(1, hi) for a in dfs(k-1, n-last, last)]\n",
    "        return dfs(k, n, 10)"
   ]
  },
  {
   "cell_type": "code",
   "execution_count": null,
   "metadata": {},
   "outputs": [],
   "source": [
    "# 217. https://leetcode.com/problems/contains-duplicate/\n",
    "class Solution:\n",
    "    def containsDuplicate(self, nums: List[int]) -> bool:\n",
    "        return len(set(nums)) < len(nums)"
   ]
  },
  {
   "cell_type": "code",
   "execution_count": null,
   "metadata": {},
   "outputs": [],
   "source": [
    "# 218. https://leetcode.com/problems/the-skyline-problem/\n",
    "import heapq\n",
    "class Solution:\n",
    "    def getSkyline(self, buildings: List[List[int]]) -> List[List[int]]:\n",
    "        # 1. python heap is min heap; 2. event\n",
    "        q, r, events = [(0, float(\"inf\"))], [[0, 0]], []\n",
    "        for s, e, h in buildings: \n",
    "            events.extend([(s, -h, e), (e, 0, None)])\n",
    "        for s, h, e in sorted(events):\n",
    "            while q[0][1] <= s: \n",
    "                heapq.heappop(q)\n",
    "            if e:\n",
    "                heapq.heappush(q, (h, e))\n",
    "            if r[-1][1] != -q[0][0]:\n",
    "                r.append([s, -q[0][0]])\n",
    "        return r[1:]"
   ]
  },
  {
   "cell_type": "code",
   "execution_count": null,
   "metadata": {},
   "outputs": [],
   "source": [
    "# 219. https://leetcode.com/problems/contains-duplicate-ii/\n",
    "class Solution:\n",
    "    def containsNearbyDuplicate(self, nums: List[int], k: int) -> bool:\n",
    "        d = {}\n",
    "        for i, a in enumerate(nums):\n",
    "            if i - d.get(a, -k-1) <= k: return True\n",
    "            d[a] = i\n",
    "        return False"
   ]
  },
  {
   "cell_type": "code",
   "execution_count": null,
   "metadata": {},
   "outputs": [],
   "source": [
    "# 220. https://leetcode.com/problems/contains-duplicate-iii/\n",
    "class Solution:\n",
    "    def containsNearbyAlmostDuplicate(self, nums: List[int], k: int, t: int) -> bool:\n",
    "        w, d = t+1, {}\n",
    "        for i, a in enumerate(nums):\n",
    "            index = a//w\n",
    "            if index in d or abs(d.get(index-1, float('inf'))-a) <= t or abs(d.get(index+1, float('inf'))-a) <= t:return True\n",
    "            d[index] = a\n",
    "            if i>=k: del d[nums[i-k]//w]\n",
    "        return False"
   ]
  }
 ],
 "metadata": {
  "interpreter": {
   "hash": "376d9237ede9442d972b968135a4eef881e54875bb30b95a617238950d262340"
  },
  "kernelspec": {
   "display_name": "Python 3.9.9 ('base')",
   "language": "python",
   "name": "python3"
  },
  "language_info": {
   "codemirror_mode": {
    "name": "ipython",
    "version": 3
   },
   "file_extension": ".py",
   "mimetype": "text/x-python",
   "name": "python",
   "nbconvert_exporter": "python",
   "pygments_lexer": "ipython3",
   "version": "3.9.9"
  },
  "orig_nbformat": 4
 },
 "nbformat": 4,
 "nbformat_minor": 2
}
